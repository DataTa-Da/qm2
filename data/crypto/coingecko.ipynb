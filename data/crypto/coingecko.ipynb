{
 "cells": [
  {
   "cell_type": "code",
   "execution_count": 154,
   "id": "b25a0071",
   "metadata": {},
   "outputs": [
    {
     "name": "stdout",
     "output_type": "stream",
     "text": [
      "Defaulting to user installation because normal site-packages is not writeable\n",
      "Requirement already satisfied: pandas in /home/theseus/.local/lib/python3.9/site-packages (1.5.2)\n",
      "Requirement already satisfied: pycoingecko in /home/theseus/.local/lib/python3.9/site-packages (3.1.0)\n",
      "Requirement already satisfied: matplotlib in /home/theseus/.local/lib/python3.9/site-packages (3.6.2)\n",
      "Collecting scipy\n",
      "  Downloading scipy-1.9.3-cp39-cp39-manylinux_2_17_x86_64.manylinux2014_x86_64.whl (33.8 MB)\n",
      "\u001b[K     |████████████████████████████████| 33.8 MB 56 kB/s eta 0:00:011     |█████████████████████████████▋  | 31.2 MB 392 kB/s eta 0:00:07\n",
      "\u001b[?25hRequirement already satisfied: pytz>=2020.1 in /opt/miniconda3/lib/python3.9/site-packages (from pandas) (2022.1)\n",
      "Requirement already satisfied: python-dateutil>=2.8.1 in /opt/miniconda3/lib/python3.9/site-packages (from pandas) (2.8.2)\n",
      "Requirement already satisfied: numpy>=1.20.3 in /home/theseus/.local/lib/python3.9/site-packages (from pandas) (1.23.5)\n",
      "Requirement already satisfied: requests in /opt/miniconda3/lib/python3.9/site-packages (from pycoingecko) (2.27.1)\n",
      "Requirement already satisfied: contourpy>=1.0.1 in /home/theseus/.local/lib/python3.9/site-packages (from matplotlib) (1.0.6)\n",
      "Requirement already satisfied: packaging>=20.0 in /opt/miniconda3/lib/python3.9/site-packages (from matplotlib) (21.3)\n",
      "Requirement already satisfied: pyparsing>=2.2.1 in /opt/miniconda3/lib/python3.9/site-packages (from matplotlib) (3.0.9)\n",
      "Requirement already satisfied: fonttools>=4.22.0 in /home/theseus/.local/lib/python3.9/site-packages (from matplotlib) (4.38.0)\n",
      "Requirement already satisfied: cycler>=0.10 in /home/theseus/.local/lib/python3.9/site-packages (from matplotlib) (0.11.0)\n",
      "Requirement already satisfied: kiwisolver>=1.0.1 in /home/theseus/.local/lib/python3.9/site-packages (from matplotlib) (1.4.4)\n",
      "Requirement already satisfied: pillow>=6.2.0 in /opt/miniconda3/lib/python3.9/site-packages (from matplotlib) (9.2.0)\n",
      "Requirement already satisfied: six>=1.5 in /opt/miniconda3/lib/python3.9/site-packages (from python-dateutil>=2.8.1->pandas) (1.16.0)\n",
      "Requirement already satisfied: charset-normalizer~=2.0.0 in /opt/miniconda3/lib/python3.9/site-packages (from requests->pycoingecko) (2.0.4)\n",
      "Requirement already satisfied: urllib3<1.27,>=1.21.1 in /opt/miniconda3/lib/python3.9/site-packages (from requests->pycoingecko) (1.26.8)\n",
      "Requirement already satisfied: idna<4,>=2.5 in /opt/miniconda3/lib/python3.9/site-packages (from requests->pycoingecko) (3.3)\n",
      "Requirement already satisfied: certifi>=2017.4.17 in /opt/miniconda3/lib/python3.9/site-packages (from requests->pycoingecko) (2022.9.24)\n",
      "Installing collected packages: scipy\n",
      "Successfully installed scipy-1.9.3\n"
     ]
    }
   ],
   "source": [
    "! pip3 install pandas pycoingecko matplotlib scipy\n",
    "import matplotlib.pyplot as plt\n",
    "from scipy.stats import norm\n",
    "import pandas as pd\n",
    "import datetime as dt\n",
    "import time\n",
    "import statistics as stats\n",
    "import numpy as np\n",
    "from pycoingecko import CoinGeckoAPI\n",
    "cg = CoinGeckoAPI()"
   ]
  },
  {
   "cell_type": "code",
   "execution_count": 179,
   "id": "8f25781a",
   "metadata": {},
   "outputs": [],
   "source": [
    "tweet_date = \"2018-07-18 01:58:00\"\n",
    "coin='dogecoin'\n",
    "date_format = \"%Y-%m-%d %H:%M:%S\"\n",
    "#1 day from current time will produce 5min interval\n",
    "#1-90 hourly interval\n",
    "#above 90 days is daily\n",
    "number_of_days = 10\n",
    "number_of_hours = 0\n",
    "tweet_datetime = pd.to_datetime(tweet_date,format=date_format)\n",
    "tweet_from_timestamp = (tweet_datetime - dt.timedelta(days=number_of_days,hours=number_of_hours)).timestamp()\n",
    "tweet_to_timestamp = (tweet_datetime + dt.timedelta(days=number_of_days,hours=number_of_hours)).timestamp()"
   ]
  },
  {
   "cell_type": "code",
   "execution_count": 180,
   "id": "6593e284",
   "metadata": {},
   "outputs": [],
   "source": [
    "coin_gecko_data = cg.get_coin_market_chart_range_by_id(id=coin,\n",
    "                                                vs_currency='usd',\n",
    "                                                from_timestamp=tweet_from_timestamp,\n",
    "                                                to_timestamp=tweet_to_timestamp)"
   ]
  },
  {
   "cell_type": "code",
   "execution_count": 181,
   "id": "9ea96fc6",
   "metadata": {},
   "outputs": [],
   "source": [
    "def get_nth_element():\n",
    "    return l[1]\n",
    "parsed_data = {}\n",
    "timestamps=list(map(lambda x:x[0],coin_gecko_data['prices']))\n",
    "for key in coin_gecko_data.keys():\n",
    "    parsed_data[key] = list(map(lambda x:x[1], coin_gecko_data[key]))\n",
    "parsed_data['timestamps']=timestamps"
   ]
  },
  {
   "cell_type": "code",
   "execution_count": 182,
   "id": "cebe667e",
   "metadata": {},
   "outputs": [],
   "source": [
    "df=pd.DataFrame(parsed_data)"
   ]
  },
  {
   "cell_type": "code",
   "execution_count": 183,
   "id": "24d67116",
   "metadata": {},
   "outputs": [
    {
     "data": {
      "text/html": [
       "<div>\n",
       "<style scoped>\n",
       "    .dataframe tbody tr th:only-of-type {\n",
       "        vertical-align: middle;\n",
       "    }\n",
       "\n",
       "    .dataframe tbody tr th {\n",
       "        vertical-align: top;\n",
       "    }\n",
       "\n",
       "    .dataframe thead th {\n",
       "        text-align: right;\n",
       "    }\n",
       "</style>\n",
       "<table border=\"1\" class=\"dataframe\">\n",
       "  <thead>\n",
       "    <tr style=\"text-align: right;\">\n",
       "      <th></th>\n",
       "      <th>prices</th>\n",
       "      <th>market_caps</th>\n",
       "      <th>total_volumes</th>\n",
       "      <th>timestamps</th>\n",
       "    </tr>\n",
       "  </thead>\n",
       "  <tbody>\n",
       "    <tr>\n",
       "      <th>0</th>\n",
       "      <td>0.002617</td>\n",
       "      <td>3.014280e+08</td>\n",
       "      <td>2.028931e+06</td>\n",
       "      <td>1531016114256</td>\n",
       "    </tr>\n",
       "    <tr>\n",
       "      <th>1</th>\n",
       "      <td>0.002607</td>\n",
       "      <td>3.002960e+08</td>\n",
       "      <td>2.182548e+06</td>\n",
       "      <td>1531019711874</td>\n",
       "    </tr>\n",
       "    <tr>\n",
       "      <th>2</th>\n",
       "      <td>0.002618</td>\n",
       "      <td>3.015053e+08</td>\n",
       "      <td>2.247113e+06</td>\n",
       "      <td>1531023314050</td>\n",
       "    </tr>\n",
       "    <tr>\n",
       "      <th>3</th>\n",
       "      <td>0.002595</td>\n",
       "      <td>2.988876e+08</td>\n",
       "      <td>2.315812e+06</td>\n",
       "      <td>1531026910546</td>\n",
       "    </tr>\n",
       "    <tr>\n",
       "      <th>4</th>\n",
       "      <td>0.002601</td>\n",
       "      <td>2.995441e+08</td>\n",
       "      <td>2.358051e+06</td>\n",
       "      <td>1531030512694</td>\n",
       "    </tr>\n",
       "    <tr>\n",
       "      <th>...</th>\n",
       "      <td>...</td>\n",
       "      <td>...</td>\n",
       "      <td>...</td>\n",
       "      <td>...</td>\n",
       "    </tr>\n",
       "    <tr>\n",
       "      <th>492</th>\n",
       "      <td>0.003443</td>\n",
       "      <td>3.975303e+08</td>\n",
       "      <td>5.332609e+06</td>\n",
       "      <td>1532728590581</td>\n",
       "    </tr>\n",
       "    <tr>\n",
       "      <th>493</th>\n",
       "      <td>0.003438</td>\n",
       "      <td>3.969788e+08</td>\n",
       "      <td>4.941702e+06</td>\n",
       "      <td>1532732192382</td>\n",
       "    </tr>\n",
       "    <tr>\n",
       "      <th>494</th>\n",
       "      <td>0.003409</td>\n",
       "      <td>3.936513e+08</td>\n",
       "      <td>4.323264e+06</td>\n",
       "      <td>1532735789299</td>\n",
       "    </tr>\n",
       "    <tr>\n",
       "      <th>495</th>\n",
       "      <td>0.003424</td>\n",
       "      <td>3.953212e+08</td>\n",
       "      <td>4.278659e+06</td>\n",
       "      <td>1532739389282</td>\n",
       "    </tr>\n",
       "    <tr>\n",
       "      <th>496</th>\n",
       "      <td>0.003435</td>\n",
       "      <td>3.966405e+08</td>\n",
       "      <td>4.284172e+06</td>\n",
       "      <td>1532742991027</td>\n",
       "    </tr>\n",
       "  </tbody>\n",
       "</table>\n",
       "<p>497 rows × 4 columns</p>\n",
       "</div>"
      ],
      "text/plain": [
       "       prices   market_caps  total_volumes     timestamps\n",
       "0    0.002617  3.014280e+08   2.028931e+06  1531016114256\n",
       "1    0.002607  3.002960e+08   2.182548e+06  1531019711874\n",
       "2    0.002618  3.015053e+08   2.247113e+06  1531023314050\n",
       "3    0.002595  2.988876e+08   2.315812e+06  1531026910546\n",
       "4    0.002601  2.995441e+08   2.358051e+06  1531030512694\n",
       "..        ...           ...            ...            ...\n",
       "492  0.003443  3.975303e+08   5.332609e+06  1532728590581\n",
       "493  0.003438  3.969788e+08   4.941702e+06  1532732192382\n",
       "494  0.003409  3.936513e+08   4.323264e+06  1532735789299\n",
       "495  0.003424  3.953212e+08   4.278659e+06  1532739389282\n",
       "496  0.003435  3.966405e+08   4.284172e+06  1532742991027\n",
       "\n",
       "[497 rows x 4 columns]"
      ]
     },
     "execution_count": 183,
     "metadata": {},
     "output_type": "execute_result"
    }
   ],
   "source": [
    "df"
   ]
  },
  {
   "cell_type": "code",
   "execution_count": 184,
   "id": "4e6564a9",
   "metadata": {},
   "outputs": [
    {
     "data": {
      "text/plain": [
       "0    1531016114256\n",
       "1    1531019711874\n",
       "2    1531023314050\n",
       "3    1531026910546\n",
       "4    1531030512694\n",
       "Name: timestamps, dtype: int64"
      ]
     },
     "execution_count": 184,
     "metadata": {},
     "output_type": "execute_result"
    }
   ],
   "source": [
    "df['timestamps'].head()"
   ]
  },
  {
   "cell_type": "code",
   "execution_count": 185,
   "id": "7a2eecf6",
   "metadata": {},
   "outputs": [],
   "source": [
    "df['date']=pd.to_datetime(df['timestamps'],origin='unix',unit='ms')"
   ]
  },
  {
   "cell_type": "code",
   "execution_count": 186,
   "id": "abf6f701",
   "metadata": {},
   "outputs": [
    {
     "data": {
      "text/html": [
       "<div>\n",
       "<style scoped>\n",
       "    .dataframe tbody tr th:only-of-type {\n",
       "        vertical-align: middle;\n",
       "    }\n",
       "\n",
       "    .dataframe tbody tr th {\n",
       "        vertical-align: top;\n",
       "    }\n",
       "\n",
       "    .dataframe thead th {\n",
       "        text-align: right;\n",
       "    }\n",
       "</style>\n",
       "<table border=\"1\" class=\"dataframe\">\n",
       "  <thead>\n",
       "    <tr style=\"text-align: right;\">\n",
       "      <th></th>\n",
       "      <th>prices</th>\n",
       "      <th>market_caps</th>\n",
       "      <th>total_volumes</th>\n",
       "      <th>timestamps</th>\n",
       "      <th>date</th>\n",
       "    </tr>\n",
       "  </thead>\n",
       "  <tbody>\n",
       "    <tr>\n",
       "      <th>0</th>\n",
       "      <td>0.002617</td>\n",
       "      <td>3.014280e+08</td>\n",
       "      <td>2.028931e+06</td>\n",
       "      <td>1531016114256</td>\n",
       "      <td>2018-07-08 02:15:14.256</td>\n",
       "    </tr>\n",
       "    <tr>\n",
       "      <th>1</th>\n",
       "      <td>0.002607</td>\n",
       "      <td>3.002960e+08</td>\n",
       "      <td>2.182548e+06</td>\n",
       "      <td>1531019711874</td>\n",
       "      <td>2018-07-08 03:15:11.874</td>\n",
       "    </tr>\n",
       "    <tr>\n",
       "      <th>2</th>\n",
       "      <td>0.002618</td>\n",
       "      <td>3.015053e+08</td>\n",
       "      <td>2.247113e+06</td>\n",
       "      <td>1531023314050</td>\n",
       "      <td>2018-07-08 04:15:14.050</td>\n",
       "    </tr>\n",
       "    <tr>\n",
       "      <th>3</th>\n",
       "      <td>0.002595</td>\n",
       "      <td>2.988876e+08</td>\n",
       "      <td>2.315812e+06</td>\n",
       "      <td>1531026910546</td>\n",
       "      <td>2018-07-08 05:15:10.546</td>\n",
       "    </tr>\n",
       "    <tr>\n",
       "      <th>4</th>\n",
       "      <td>0.002601</td>\n",
       "      <td>2.995441e+08</td>\n",
       "      <td>2.358051e+06</td>\n",
       "      <td>1531030512694</td>\n",
       "      <td>2018-07-08 06:15:12.694</td>\n",
       "    </tr>\n",
       "    <tr>\n",
       "      <th>...</th>\n",
       "      <td>...</td>\n",
       "      <td>...</td>\n",
       "      <td>...</td>\n",
       "      <td>...</td>\n",
       "      <td>...</td>\n",
       "    </tr>\n",
       "    <tr>\n",
       "      <th>492</th>\n",
       "      <td>0.003443</td>\n",
       "      <td>3.975303e+08</td>\n",
       "      <td>5.332609e+06</td>\n",
       "      <td>1532728590581</td>\n",
       "      <td>2018-07-27 21:56:30.581</td>\n",
       "    </tr>\n",
       "    <tr>\n",
       "      <th>493</th>\n",
       "      <td>0.003438</td>\n",
       "      <td>3.969788e+08</td>\n",
       "      <td>4.941702e+06</td>\n",
       "      <td>1532732192382</td>\n",
       "      <td>2018-07-27 22:56:32.382</td>\n",
       "    </tr>\n",
       "    <tr>\n",
       "      <th>494</th>\n",
       "      <td>0.003409</td>\n",
       "      <td>3.936513e+08</td>\n",
       "      <td>4.323264e+06</td>\n",
       "      <td>1532735789299</td>\n",
       "      <td>2018-07-27 23:56:29.299</td>\n",
       "    </tr>\n",
       "    <tr>\n",
       "      <th>495</th>\n",
       "      <td>0.003424</td>\n",
       "      <td>3.953212e+08</td>\n",
       "      <td>4.278659e+06</td>\n",
       "      <td>1532739389282</td>\n",
       "      <td>2018-07-28 00:56:29.282</td>\n",
       "    </tr>\n",
       "    <tr>\n",
       "      <th>496</th>\n",
       "      <td>0.003435</td>\n",
       "      <td>3.966405e+08</td>\n",
       "      <td>4.284172e+06</td>\n",
       "      <td>1532742991027</td>\n",
       "      <td>2018-07-28 01:56:31.027</td>\n",
       "    </tr>\n",
       "  </tbody>\n",
       "</table>\n",
       "<p>497 rows × 5 columns</p>\n",
       "</div>"
      ],
      "text/plain": [
       "       prices   market_caps  total_volumes     timestamps  \\\n",
       "0    0.002617  3.014280e+08   2.028931e+06  1531016114256   \n",
       "1    0.002607  3.002960e+08   2.182548e+06  1531019711874   \n",
       "2    0.002618  3.015053e+08   2.247113e+06  1531023314050   \n",
       "3    0.002595  2.988876e+08   2.315812e+06  1531026910546   \n",
       "4    0.002601  2.995441e+08   2.358051e+06  1531030512694   \n",
       "..        ...           ...            ...            ...   \n",
       "492  0.003443  3.975303e+08   5.332609e+06  1532728590581   \n",
       "493  0.003438  3.969788e+08   4.941702e+06  1532732192382   \n",
       "494  0.003409  3.936513e+08   4.323264e+06  1532735789299   \n",
       "495  0.003424  3.953212e+08   4.278659e+06  1532739389282   \n",
       "496  0.003435  3.966405e+08   4.284172e+06  1532742991027   \n",
       "\n",
       "                       date  \n",
       "0   2018-07-08 02:15:14.256  \n",
       "1   2018-07-08 03:15:11.874  \n",
       "2   2018-07-08 04:15:14.050  \n",
       "3   2018-07-08 05:15:10.546  \n",
       "4   2018-07-08 06:15:12.694  \n",
       "..                      ...  \n",
       "492 2018-07-27 21:56:30.581  \n",
       "493 2018-07-27 22:56:32.382  \n",
       "494 2018-07-27 23:56:29.299  \n",
       "495 2018-07-28 00:56:29.282  \n",
       "496 2018-07-28 01:56:31.027  \n",
       "\n",
       "[497 rows x 5 columns]"
      ]
     },
     "execution_count": 186,
     "metadata": {},
     "output_type": "execute_result"
    }
   ],
   "source": [
    "df"
   ]
  },
  {
   "cell_type": "code",
   "execution_count": 187,
   "id": "ab6d9de5",
   "metadata": {},
   "outputs": [
    {
     "data": {
      "text/plain": [
       "<matplotlib.lines.Line2D at 0x7f72e5daab80>"
      ]
     },
     "execution_count": 187,
     "metadata": {},
     "output_type": "execute_result"
    },
    {
     "data": {
      "image/png": "[encoded data removed]",
      "text/plain": [
       "<Figure size 640x480 with 1 Axes>"
      ]
     },
     "metadata": {},
     "output_type": "display_data"
    }
   ],
   "source": [
    "df.plot(x='date',y='prices')\n",
    "plt.axvline(tweet_datetime,color='green')"
   ]
  },
  {
   "cell_type": "code",
   "execution_count": null,
   "id": "f1f0acae",
   "metadata": {},
   "outputs": [],
   "source": []
  },
  {
   "cell_type": "code",
   "execution_count": null,
   "id": "7a385c32",
   "metadata": {},
   "outputs": [],
   "source": []
  },
  {
   "cell_type": "code",
   "execution_count": null,
   "id": "72217d66",
   "metadata": {},
   "outputs": [],
   "source": []
  },
  {
   "cell_type": "code",
   "execution_count": null,
   "id": "2fb0a1df",
   "metadata": {},
   "outputs": [],
   "source": []
  }
 ],
 "metadata": {
  "kernelspec": {
   "display_name": "Python 3 (ipykernel)",
   "language": "python",
   "name": "python3"
  },
  "language_info": {
   "codemirror_mode": {
    "name": "ipython",
    "version": 3
   },
   "file_extension": ".py",
   "mimetype": "text/x-python",
   "name": "python",
   "nbconvert_exporter": "python",
   "pygments_lexer": "ipython3",
   "version": "3.9.12"
  }
 },
 "nbformat": 4,
 "nbformat_minor": 5
}
