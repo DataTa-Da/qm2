{
 "cells": [
  {
   "cell_type": "code",
   "execution_count": 3,
   "id": "b25a0071",
   "metadata": {},
   "outputs": [
    {
     "name": "stdout",
     "output_type": "stream",
     "text": [
      "Requirement already satisfied: pandas in /home/clare/miniconda3/lib/python3.9/site-packages (1.4.2)\n",
      "Requirement already satisfied: pycoingecko in /home/clare/miniconda3/lib/python3.9/site-packages (3.1.0)\n",
      "Requirement already satisfied: matplotlib in /home/clare/miniconda3/lib/python3.9/site-packages (3.5.1)\n",
      "Requirement already satisfied: scipy in /home/clare/miniconda3/lib/python3.9/site-packages (1.9.3)\n",
      "Requirement already satisfied: seaborn in /home/clare/miniconda3/lib/python3.9/site-packages (0.12.1)\n",
      "Requirement already satisfied: python-dateutil>=2.8.1 in /home/clare/miniconda3/lib/python3.9/site-packages (from pandas) (2.8.2)\n",
      "Requirement already satisfied: pytz>=2020.1 in /home/clare/miniconda3/lib/python3.9/site-packages (from pandas) (2022.1)\n",
      "Requirement already satisfied: numpy>=1.18.5 in /home/clare/miniconda3/lib/python3.9/site-packages (from pandas) (1.23.4)\n",
      "Requirement already satisfied: requests in /home/clare/miniconda3/lib/python3.9/site-packages (from pycoingecko) (2.27.1)\n",
      "Requirement already satisfied: pyparsing>=2.2.1 in /home/clare/miniconda3/lib/python3.9/site-packages (from matplotlib) (3.0.9)\n",
      "Requirement already satisfied: kiwisolver>=1.0.1 in /home/clare/miniconda3/lib/python3.9/site-packages (from matplotlib) (1.4.2)\n",
      "Requirement already satisfied: pillow>=6.2.0 in /home/clare/miniconda3/lib/python3.9/site-packages (from matplotlib) (9.0.1)\n",
      "Requirement already satisfied: cycler>=0.10 in /home/clare/miniconda3/lib/python3.9/site-packages (from matplotlib) (0.11.0)\n",
      "Requirement already satisfied: fonttools>=4.22.0 in /home/clare/miniconda3/lib/python3.9/site-packages (from matplotlib) (4.25.0)\n",
      "Requirement already satisfied: packaging>=20.0 in /home/clare/miniconda3/lib/python3.9/site-packages (from matplotlib) (21.3)\n",
      "Requirement already satisfied: six>=1.5 in /home/clare/miniconda3/lib/python3.9/site-packages (from python-dateutil>=2.8.1->pandas) (1.16.0)\n",
      "Requirement already satisfied: certifi>=2017.4.17 in /home/clare/miniconda3/lib/python3.9/site-packages (from requests->pycoingecko) (2022.9.24)\n",
      "Requirement already satisfied: urllib3<1.27,>=1.21.1 in /home/clare/miniconda3/lib/python3.9/site-packages (from requests->pycoingecko) (1.26.8)\n",
      "Requirement already satisfied: idna<4,>=2.5 in /home/clare/miniconda3/lib/python3.9/site-packages (from requests->pycoingecko) (3.3)\n",
      "Requirement already satisfied: charset-normalizer~=2.0.0 in /home/clare/miniconda3/lib/python3.9/site-packages (from requests->pycoingecko) (2.0.4)\n"
     ]
    }
   ],
   "source": [
    "! pip3 install pandas pycoingecko matplotlib scipy seaborn\n",
    "import matplotlib.pyplot as plt\n",
    "from scipy.stats import norm\n",
    "import pandas as pd\n",
    "import datetime as dt\n",
    "import time\n",
    "import statistics as stats\n",
    "import numpy as np\n",
    "import matplotlib.pyplot as plt\n",
    "import seaborn as sns\n",
    "import statsmodels.api as sm\n",
    "from pycoingecko import CoinGeckoAPI\n",
    "from statsmodels.graphics.tsaplots import plot_acf\n",
    "from statsmodels.tsa.filters.hp_filter import hpfilter\n",
    "cg = CoinGeckoAPI()"
   ]
  },
  {
   "cell_type": "code",
   "execution_count": 4,
   "id": "8f25781a",
   "metadata": {},
   "outputs": [],
   "source": [
    "tweet_date = \"2018-07-18 01:58:00\"\n",
    "coin='dogecoin'\n",
    "date_format = \"%Y-%m-%d %H:%M:%S\"\n",
    "#1 day from current time will produce 5min interval\n",
    "#1-90 hourly interval\n",
    "#above 90 days is daily\n",
    "number_of_days = 45\n",
    "number_of_hours = 0\n",
    "tweet_datetime = pd.to_datetime(tweet_date,format=date_format)\n",
    "tweet_from_timestamp = (tweet_datetime - dt.timedelta(days=number_of_days,hours=number_of_hours)).timestamp()\n",
    "tweet_to_timestamp = (tweet_datetime + dt.timedelta(days=number_of_days,hours=number_of_hours)).timestamp()"
   ]
  },
  {
   "cell_type": "code",
   "execution_count": 5,
   "id": "6593e284",
   "metadata": {},
   "outputs": [],
   "source": [
    "coin_gecko_data = cg.get_coin_market_chart_range_by_id(id=coin,\n",
    "                                                vs_currency='usd',\n",
    "                                                from_timestamp=tweet_from_timestamp,\n",
    "                                                to_timestamp=tweet_to_timestamp)"
   ]
  },
  {
   "cell_type": "code",
   "execution_count": 6,
   "id": "9ea96fc6",
   "metadata": {},
   "outputs": [],
   "source": [
    "def get_nth_element():\n",
    "    return l[1]\n",
    "parsed_data = {}\n",
    "timestamps=list(map(lambda x:x[0],coin_gecko_data['prices']))\n",
    "for key in coin_gecko_data.keys():\n",
    "    parsed_data[key] = list(map(lambda x:x[1], coin_gecko_data[key]))\n",
    "parsed_data['timestamps']=timestamps"
   ]
  },
  {
   "cell_type": "code",
   "execution_count": 7,
   "id": "cebe667e",
   "metadata": {},
   "outputs": [],
   "source": [
    "df=pd.DataFrame(parsed_data)"
   ]
  },
  {
   "cell_type": "code",
   "execution_count": 8,
   "id": "24d67116",
   "metadata": {},
   "outputs": [
    {
     "data": {
      "text/html": [
       "<div>\n",
       "<style scoped>\n",
       "    .dataframe tbody tr th:only-of-type {\n",
       "        vertical-align: middle;\n",
       "    }\n",
       "\n",
       "    .dataframe tbody tr th {\n",
       "        vertical-align: top;\n",
       "    }\n",
       "\n",
       "    .dataframe thead th {\n",
       "        text-align: right;\n",
       "    }\n",
       "</style>\n",
       "<table border=\"1\" class=\"dataframe\">\n",
       "  <thead>\n",
       "    <tr style=\"text-align: right;\">\n",
       "      <th></th>\n",
       "      <th>prices</th>\n",
       "      <th>market_caps</th>\n",
       "      <th>total_volumes</th>\n",
       "      <th>timestamps</th>\n",
       "    </tr>\n",
       "  </thead>\n",
       "  <tbody>\n",
       "    <tr>\n",
       "      <th>0</th>\n",
       "      <td>0.003536</td>\n",
       "      <td>4.055510e+08</td>\n",
       "      <td>4.630466e+06</td>\n",
       "      <td>1527994004375</td>\n",
       "    </tr>\n",
       "    <tr>\n",
       "      <th>1</th>\n",
       "      <td>0.003537</td>\n",
       "      <td>4.056969e+08</td>\n",
       "      <td>4.647641e+06</td>\n",
       "      <td>1527997602273</td>\n",
       "    </tr>\n",
       "    <tr>\n",
       "      <th>2</th>\n",
       "      <td>0.003545</td>\n",
       "      <td>4.066036e+08</td>\n",
       "      <td>3.931993e+06</td>\n",
       "      <td>1528001218261</td>\n",
       "    </tr>\n",
       "    <tr>\n",
       "      <th>3</th>\n",
       "      <td>0.003531</td>\n",
       "      <td>4.050303e+08</td>\n",
       "      <td>3.953584e+06</td>\n",
       "      <td>1528004802445</td>\n",
       "    </tr>\n",
       "    <tr>\n",
       "      <th>4</th>\n",
       "      <td>0.003599</td>\n",
       "      <td>4.127919e+08</td>\n",
       "      <td>4.105703e+06</td>\n",
       "      <td>1528008405184</td>\n",
       "    </tr>\n",
       "    <tr>\n",
       "      <th>...</th>\n",
       "      <td>...</td>\n",
       "      <td>...</td>\n",
       "      <td>...</td>\n",
       "      <td>...</td>\n",
       "    </tr>\n",
       "    <tr>\n",
       "      <th>2242</th>\n",
       "      <td>0.004353</td>\n",
       "      <td>5.045204e+08</td>\n",
       "      <td>9.432780e+07</td>\n",
       "      <td>1535752613499</td>\n",
       "    </tr>\n",
       "    <tr>\n",
       "      <th>2243</th>\n",
       "      <td>0.004681</td>\n",
       "      <td>5.441599e+08</td>\n",
       "      <td>1.103172e+08</td>\n",
       "      <td>1535756208582</td>\n",
       "    </tr>\n",
       "    <tr>\n",
       "      <th>2244</th>\n",
       "      <td>0.004888</td>\n",
       "      <td>5.665088e+08</td>\n",
       "      <td>1.244128e+08</td>\n",
       "      <td>1535759822095</td>\n",
       "    </tr>\n",
       "    <tr>\n",
       "      <th>2245</th>\n",
       "      <td>0.004526</td>\n",
       "      <td>5.248419e+08</td>\n",
       "      <td>1.259893e+08</td>\n",
       "      <td>1535763418165</td>\n",
       "    </tr>\n",
       "    <tr>\n",
       "      <th>2246</th>\n",
       "      <td>0.004763</td>\n",
       "      <td>5.537377e+08</td>\n",
       "      <td>1.379959e+08</td>\n",
       "      <td>1535767024246</td>\n",
       "    </tr>\n",
       "  </tbody>\n",
       "</table>\n",
       "<p>2247 rows × 4 columns</p>\n",
       "</div>"
      ],
      "text/plain": [
       "        prices   market_caps  total_volumes     timestamps\n",
       "0     0.003536  4.055510e+08   4.630466e+06  1527994004375\n",
       "1     0.003537  4.056969e+08   4.647641e+06  1527997602273\n",
       "2     0.003545  4.066036e+08   3.931993e+06  1528001218261\n",
       "3     0.003531  4.050303e+08   3.953584e+06  1528004802445\n",
       "4     0.003599  4.127919e+08   4.105703e+06  1528008405184\n",
       "...        ...           ...            ...            ...\n",
       "2242  0.004353  5.045204e+08   9.432780e+07  1535752613499\n",
       "2243  0.004681  5.441599e+08   1.103172e+08  1535756208582\n",
       "2244  0.004888  5.665088e+08   1.244128e+08  1535759822095\n",
       "2245  0.004526  5.248419e+08   1.259893e+08  1535763418165\n",
       "2246  0.004763  5.537377e+08   1.379959e+08  1535767024246\n",
       "\n",
       "[2247 rows x 4 columns]"
      ]
     },
     "execution_count": 8,
     "metadata": {},
     "output_type": "execute_result"
    }
   ],
   "source": [
    "df"
   ]
  },
  {
   "cell_type": "code",
   "execution_count": 9,
   "id": "4e6564a9",
   "metadata": {},
   "outputs": [
    {
     "data": {
      "text/plain": [
       "0    1527994004375\n",
       "1    1527997602273\n",
       "2    1528001218261\n",
       "3    1528004802445\n",
       "4    1528008405184\n",
       "Name: timestamps, dtype: int64"
      ]
     },
     "execution_count": 9,
     "metadata": {},
     "output_type": "execute_result"
    }
   ],
   "source": [
    "df['timestamps'].head()"
   ]
  },
  {
   "cell_type": "code",
   "execution_count": 10,
   "id": "7a2eecf6",
   "metadata": {},
   "outputs": [],
   "source": [
    "df['date']=pd.to_datetime(df['timestamps'],origin='unix',unit='ms')"
   ]
  },
  {
   "cell_type": "code",
   "execution_count": 11,
   "id": "abf6f701",
   "metadata": {},
   "outputs": [],
   "source": [
    "df[['prices','market_caps','total_volumes','timestamps','date']].to_csv('./dogecoin_usd_elon.csv',index=False)"
   ]
  },
  {
   "cell_type": "code",
   "execution_count": 12,
   "id": "de3d10a0",
   "metadata": {},
   "outputs": [],
   "source": [
    "def is_after_tweet(tweet_dt):\n",
    "    def i_a_t(date):\n",
    "        if date < tweet_dt:\n",
    "            return 0\n",
    "        elif date > tweet_dt: \n",
    "            return 1\n",
    "        else:\n",
    "            pass\n",
    "    return i_a_t"
   ]
  },
  {
   "cell_type": "code",
   "execution_count": 13,
   "id": "4929ddac",
   "metadata": {},
   "outputs": [],
   "source": [
    "is_after_mapper = is_after_tweet(tweet_datetime)\n",
    "df['before_after']=df['date'].map(is_after_mapper)"
   ]
  },
  {
   "cell_type": "code",
   "execution_count": 14,
   "id": "18632290",
   "metadata": {},
   "outputs": [],
   "source": [
    "def gen_days_since(tweet_dt):\n",
    "    def generate(date):\n",
    "        diff = date - tweet_dt\n",
    "        return  diff.days + (diff.seconds / (3600 * 24))\n",
    "    return generate"
   ]
  },
  {
   "cell_type": "code",
   "execution_count": 15,
   "id": "361b593a",
   "metadata": {},
   "outputs": [
    {
     "data": {
      "text/plain": [
       "<function __main__.gen_days_since.<locals>.generate(date)>"
      ]
     },
     "execution_count": 15,
     "metadata": {},
     "output_type": "execute_result"
    }
   ],
   "source": [
    "gen_days_since(tweet_datetime)"
   ]
  },
  {
   "cell_type": "code",
   "execution_count": 16,
   "id": "7e28c5b2",
   "metadata": {},
   "outputs": [],
   "source": [
    "mapper = gen_days_since(tweet_datetime)\n",
    "df['days_since_tweet']=df['date'].map(mapper)"
   ]
  },
  {
   "cell_type": "code",
   "execution_count": 17,
   "id": "5fa1d546",
   "metadata": {},
   "outputs": [
    {
     "data": {
      "text/html": [
       "<div>\n",
       "<style scoped>\n",
       "    .dataframe tbody tr th:only-of-type {\n",
       "        vertical-align: middle;\n",
       "    }\n",
       "\n",
       "    .dataframe tbody tr th {\n",
       "        vertical-align: top;\n",
       "    }\n",
       "\n",
       "    .dataframe thead th {\n",
       "        text-align: right;\n",
       "    }\n",
       "</style>\n",
       "<table border=\"1\" class=\"dataframe\">\n",
       "  <thead>\n",
       "    <tr style=\"text-align: right;\">\n",
       "      <th></th>\n",
       "      <th>prices</th>\n",
       "      <th>market_caps</th>\n",
       "      <th>total_volumes</th>\n",
       "      <th>timestamps</th>\n",
       "      <th>date</th>\n",
       "      <th>before_after</th>\n",
       "      <th>days_since_tweet</th>\n",
       "    </tr>\n",
       "  </thead>\n",
       "  <tbody>\n",
       "    <tr>\n",
       "      <th>0</th>\n",
       "      <td>0.003536</td>\n",
       "      <td>4.055510e+08</td>\n",
       "      <td>4.630466e+06</td>\n",
       "      <td>1527994004375</td>\n",
       "      <td>2018-06-03 02:46:44.375</td>\n",
       "      <td>0</td>\n",
       "      <td>-44.966157</td>\n",
       "    </tr>\n",
       "    <tr>\n",
       "      <th>1</th>\n",
       "      <td>0.003537</td>\n",
       "      <td>4.056969e+08</td>\n",
       "      <td>4.647641e+06</td>\n",
       "      <td>1527997602273</td>\n",
       "      <td>2018-06-03 03:46:42.273</td>\n",
       "      <td>0</td>\n",
       "      <td>-44.924514</td>\n",
       "    </tr>\n",
       "    <tr>\n",
       "      <th>2</th>\n",
       "      <td>0.003545</td>\n",
       "      <td>4.066036e+08</td>\n",
       "      <td>3.931993e+06</td>\n",
       "      <td>1528001218261</td>\n",
       "      <td>2018-06-03 04:46:58.261</td>\n",
       "      <td>0</td>\n",
       "      <td>-44.882662</td>\n",
       "    </tr>\n",
       "    <tr>\n",
       "      <th>3</th>\n",
       "      <td>0.003531</td>\n",
       "      <td>4.050303e+08</td>\n",
       "      <td>3.953584e+06</td>\n",
       "      <td>1528004802445</td>\n",
       "      <td>2018-06-03 05:46:42.445</td>\n",
       "      <td>0</td>\n",
       "      <td>-44.841181</td>\n",
       "    </tr>\n",
       "    <tr>\n",
       "      <th>4</th>\n",
       "      <td>0.003599</td>\n",
       "      <td>4.127919e+08</td>\n",
       "      <td>4.105703e+06</td>\n",
       "      <td>1528008405184</td>\n",
       "      <td>2018-06-03 06:46:45.184</td>\n",
       "      <td>0</td>\n",
       "      <td>-44.799479</td>\n",
       "    </tr>\n",
       "    <tr>\n",
       "      <th>...</th>\n",
       "      <td>...</td>\n",
       "      <td>...</td>\n",
       "      <td>...</td>\n",
       "      <td>...</td>\n",
       "      <td>...</td>\n",
       "      <td>...</td>\n",
       "      <td>...</td>\n",
       "    </tr>\n",
       "    <tr>\n",
       "      <th>2242</th>\n",
       "      <td>0.004353</td>\n",
       "      <td>5.045204e+08</td>\n",
       "      <td>9.432780e+07</td>\n",
       "      <td>1535752613499</td>\n",
       "      <td>2018-08-31 21:56:53.499</td>\n",
       "      <td>1</td>\n",
       "      <td>44.832558</td>\n",
       "    </tr>\n",
       "    <tr>\n",
       "      <th>2243</th>\n",
       "      <td>0.004681</td>\n",
       "      <td>5.441599e+08</td>\n",
       "      <td>1.103172e+08</td>\n",
       "      <td>1535756208582</td>\n",
       "      <td>2018-08-31 22:56:48.582</td>\n",
       "      <td>1</td>\n",
       "      <td>44.874167</td>\n",
       "    </tr>\n",
       "    <tr>\n",
       "      <th>2244</th>\n",
       "      <td>0.004888</td>\n",
       "      <td>5.665088e+08</td>\n",
       "      <td>1.244128e+08</td>\n",
       "      <td>1535759822095</td>\n",
       "      <td>2018-08-31 23:57:02.095</td>\n",
       "      <td>1</td>\n",
       "      <td>44.915995</td>\n",
       "    </tr>\n",
       "    <tr>\n",
       "      <th>2245</th>\n",
       "      <td>0.004526</td>\n",
       "      <td>5.248419e+08</td>\n",
       "      <td>1.259893e+08</td>\n",
       "      <td>1535763418165</td>\n",
       "      <td>2018-09-01 00:56:58.165</td>\n",
       "      <td>1</td>\n",
       "      <td>44.957616</td>\n",
       "    </tr>\n",
       "    <tr>\n",
       "      <th>2246</th>\n",
       "      <td>0.004763</td>\n",
       "      <td>5.537377e+08</td>\n",
       "      <td>1.379959e+08</td>\n",
       "      <td>1535767024246</td>\n",
       "      <td>2018-09-01 01:57:04.246</td>\n",
       "      <td>1</td>\n",
       "      <td>44.999352</td>\n",
       "    </tr>\n",
       "  </tbody>\n",
       "</table>\n",
       "<p>2247 rows × 7 columns</p>\n",
       "</div>"
      ],
      "text/plain": [
       "        prices   market_caps  total_volumes     timestamps  \\\n",
       "0     0.003536  4.055510e+08   4.630466e+06  1527994004375   \n",
       "1     0.003537  4.056969e+08   4.647641e+06  1527997602273   \n",
       "2     0.003545  4.066036e+08   3.931993e+06  1528001218261   \n",
       "3     0.003531  4.050303e+08   3.953584e+06  1528004802445   \n",
       "4     0.003599  4.127919e+08   4.105703e+06  1528008405184   \n",
       "...        ...           ...            ...            ...   \n",
       "2242  0.004353  5.045204e+08   9.432780e+07  1535752613499   \n",
       "2243  0.004681  5.441599e+08   1.103172e+08  1535756208582   \n",
       "2244  0.004888  5.665088e+08   1.244128e+08  1535759822095   \n",
       "2245  0.004526  5.248419e+08   1.259893e+08  1535763418165   \n",
       "2246  0.004763  5.537377e+08   1.379959e+08  1535767024246   \n",
       "\n",
       "                        date  before_after  days_since_tweet  \n",
       "0    2018-06-03 02:46:44.375             0        -44.966157  \n",
       "1    2018-06-03 03:46:42.273             0        -44.924514  \n",
       "2    2018-06-03 04:46:58.261             0        -44.882662  \n",
       "3    2018-06-03 05:46:42.445             0        -44.841181  \n",
       "4    2018-06-03 06:46:45.184             0        -44.799479  \n",
       "...                      ...           ...               ...  \n",
       "2242 2018-08-31 21:56:53.499             1         44.832558  \n",
       "2243 2018-08-31 22:56:48.582             1         44.874167  \n",
       "2244 2018-08-31 23:57:02.095             1         44.915995  \n",
       "2245 2018-09-01 00:56:58.165             1         44.957616  \n",
       "2246 2018-09-01 01:57:04.246             1         44.999352  \n",
       "\n",
       "[2247 rows x 7 columns]"
      ]
     },
     "execution_count": 17,
     "metadata": {},
     "output_type": "execute_result"
    }
   ],
   "source": [
    "df"
   ]
  },
  {
   "cell_type": "code",
   "execution_count": 18,
   "id": "d4a6895a",
   "metadata": {},
   "outputs": [
    {
     "data": {
      "text/plain": [
       "<matplotlib.lines.Line2D at 0x7f12eab04ca0>"
      ]
     },
     "execution_count": 18,
     "metadata": {},
     "output_type": "execute_result"
    },
    {
     "data": {
      "image/png": "[encoded data removed]",
      "text/plain": [
       "<Figure size 640x480 with 1 Axes>"
      ]
     },
     "metadata": {},
     "output_type": "display_data"
    }
   ],
   "source": [
    "df.plot(x='days_since_tweet',y='prices',legend=False,ylabel='Coin Price in USD ($)',xlabel='Days Since Tweet')\n",
    "plt.axvline(0,color='green')"
   ]
  },
  {
   "cell_type": "code",
   "execution_count": 19,
   "id": "0b85f2c3",
   "metadata": {},
   "outputs": [],
   "source": [
    "max_price =max(df['prices'])"
   ]
  },
  {
   "cell_type": "code",
   "execution_count": 20,
   "id": "0a04fc94",
   "metadata": {},
   "outputs": [],
   "source": [
    "min_price = min(df['prices'])"
   ]
  },
  {
   "cell_type": "code",
   "execution_count": 21,
   "id": "07b3966d",
   "metadata": {},
   "outputs": [],
   "source": [
    "def min_max(price):\n",
    "    return (price - min_price)/(max_price-min_price)"
   ]
  },
  {
   "cell_type": "code",
   "execution_count": 22,
   "id": "31d79c63",
   "metadata": {},
   "outputs": [],
   "source": [
    "df['min_max_prices']=df['prices'].map(min_max)"
   ]
  },
  {
   "cell_type": "code",
   "execution_count": 23,
   "id": "60aaf71b",
   "metadata": {
    "scrolled": true
   },
   "outputs": [
    {
     "data": {
      "text/html": [
       "<div>\n",
       "<style scoped>\n",
       "    .dataframe tbody tr th:only-of-type {\n",
       "        vertical-align: middle;\n",
       "    }\n",
       "\n",
       "    .dataframe tbody tr th {\n",
       "        vertical-align: top;\n",
       "    }\n",
       "\n",
       "    .dataframe thead th {\n",
       "        text-align: right;\n",
       "    }\n",
       "</style>\n",
       "<table border=\"1\" class=\"dataframe\">\n",
       "  <thead>\n",
       "    <tr style=\"text-align: right;\">\n",
       "      <th></th>\n",
       "      <th>prices</th>\n",
       "      <th>market_caps</th>\n",
       "      <th>total_volumes</th>\n",
       "      <th>timestamps</th>\n",
       "      <th>date</th>\n",
       "      <th>before_after</th>\n",
       "      <th>days_since_tweet</th>\n",
       "      <th>min_max_prices</th>\n",
       "    </tr>\n",
       "  </thead>\n",
       "  <tbody>\n",
       "    <tr>\n",
       "      <th>0</th>\n",
       "      <td>0.003536</td>\n",
       "      <td>4.055510e+08</td>\n",
       "      <td>4.630466e+06</td>\n",
       "      <td>1527994004375</td>\n",
       "      <td>2018-06-03 02:46:44.375</td>\n",
       "      <td>0</td>\n",
       "      <td>-44.966157</td>\n",
       "      <td>0.510243</td>\n",
       "    </tr>\n",
       "    <tr>\n",
       "      <th>1</th>\n",
       "      <td>0.003537</td>\n",
       "      <td>4.056969e+08</td>\n",
       "      <td>4.647641e+06</td>\n",
       "      <td>1527997602273</td>\n",
       "      <td>2018-06-03 03:46:42.273</td>\n",
       "      <td>0</td>\n",
       "      <td>-44.924514</td>\n",
       "      <td>0.510704</td>\n",
       "    </tr>\n",
       "    <tr>\n",
       "      <th>2</th>\n",
       "      <td>0.003545</td>\n",
       "      <td>4.066036e+08</td>\n",
       "      <td>3.931993e+06</td>\n",
       "      <td>1528001218261</td>\n",
       "      <td>2018-06-03 04:46:58.261</td>\n",
       "      <td>0</td>\n",
       "      <td>-44.882662</td>\n",
       "      <td>0.513567</td>\n",
       "    </tr>\n",
       "    <tr>\n",
       "      <th>3</th>\n",
       "      <td>0.003531</td>\n",
       "      <td>4.050303e+08</td>\n",
       "      <td>3.953584e+06</td>\n",
       "      <td>1528004802445</td>\n",
       "      <td>2018-06-03 05:46:42.445</td>\n",
       "      <td>0</td>\n",
       "      <td>-44.841181</td>\n",
       "      <td>0.508599</td>\n",
       "    </tr>\n",
       "    <tr>\n",
       "      <th>4</th>\n",
       "      <td>0.003599</td>\n",
       "      <td>4.127919e+08</td>\n",
       "      <td>4.105703e+06</td>\n",
       "      <td>1528008405184</td>\n",
       "      <td>2018-06-03 06:46:45.184</td>\n",
       "      <td>0</td>\n",
       "      <td>-44.799479</td>\n",
       "      <td>0.533107</td>\n",
       "    </tr>\n",
       "    <tr>\n",
       "      <th>...</th>\n",
       "      <td>...</td>\n",
       "      <td>...</td>\n",
       "      <td>...</td>\n",
       "      <td>...</td>\n",
       "      <td>...</td>\n",
       "      <td>...</td>\n",
       "      <td>...</td>\n",
       "      <td>...</td>\n",
       "    </tr>\n",
       "    <tr>\n",
       "      <th>2242</th>\n",
       "      <td>0.004353</td>\n",
       "      <td>5.045204e+08</td>\n",
       "      <td>9.432780e+07</td>\n",
       "      <td>1535752613499</td>\n",
       "      <td>2018-08-31 21:56:53.499</td>\n",
       "      <td>1</td>\n",
       "      <td>44.832558</td>\n",
       "      <td>0.806386</td>\n",
       "    </tr>\n",
       "    <tr>\n",
       "      <th>2243</th>\n",
       "      <td>0.004681</td>\n",
       "      <td>5.441599e+08</td>\n",
       "      <td>1.103172e+08</td>\n",
       "      <td>1535756208582</td>\n",
       "      <td>2018-08-31 22:56:48.582</td>\n",
       "      <td>1</td>\n",
       "      <td>44.874167</td>\n",
       "      <td>0.925052</td>\n",
       "    </tr>\n",
       "    <tr>\n",
       "      <th>2244</th>\n",
       "      <td>0.004888</td>\n",
       "      <td>5.665088e+08</td>\n",
       "      <td>1.244128e+08</td>\n",
       "      <td>1535759822095</td>\n",
       "      <td>2018-08-31 23:57:02.095</td>\n",
       "      <td>1</td>\n",
       "      <td>44.915995</td>\n",
       "      <td>1.000000</td>\n",
       "    </tr>\n",
       "    <tr>\n",
       "      <th>2245</th>\n",
       "      <td>0.004526</td>\n",
       "      <td>5.248419e+08</td>\n",
       "      <td>1.259893e+08</td>\n",
       "      <td>1535763418165</td>\n",
       "      <td>2018-09-01 00:56:58.165</td>\n",
       "      <td>1</td>\n",
       "      <td>44.957616</td>\n",
       "      <td>0.868973</td>\n",
       "    </tr>\n",
       "    <tr>\n",
       "      <th>2246</th>\n",
       "      <td>0.004763</td>\n",
       "      <td>5.537377e+08</td>\n",
       "      <td>1.379959e+08</td>\n",
       "      <td>1535767024246</td>\n",
       "      <td>2018-09-01 01:57:04.246</td>\n",
       "      <td>1</td>\n",
       "      <td>44.999352</td>\n",
       "      <td>0.954744</td>\n",
       "    </tr>\n",
       "  </tbody>\n",
       "</table>\n",
       "<p>2247 rows × 8 columns</p>\n",
       "</div>"
      ],
      "text/plain": [
       "        prices   market_caps  total_volumes     timestamps  \\\n",
       "0     0.003536  4.055510e+08   4.630466e+06  1527994004375   \n",
       "1     0.003537  4.056969e+08   4.647641e+06  1527997602273   \n",
       "2     0.003545  4.066036e+08   3.931993e+06  1528001218261   \n",
       "3     0.003531  4.050303e+08   3.953584e+06  1528004802445   \n",
       "4     0.003599  4.127919e+08   4.105703e+06  1528008405184   \n",
       "...        ...           ...            ...            ...   \n",
       "2242  0.004353  5.045204e+08   9.432780e+07  1535752613499   \n",
       "2243  0.004681  5.441599e+08   1.103172e+08  1535756208582   \n",
       "2244  0.004888  5.665088e+08   1.244128e+08  1535759822095   \n",
       "2245  0.004526  5.248419e+08   1.259893e+08  1535763418165   \n",
       "2246  0.004763  5.537377e+08   1.379959e+08  1535767024246   \n",
       "\n",
       "                        date  before_after  days_since_tweet  min_max_prices  \n",
       "0    2018-06-03 02:46:44.375             0        -44.966157        0.510243  \n",
       "1    2018-06-03 03:46:42.273             0        -44.924514        0.510704  \n",
       "2    2018-06-03 04:46:58.261             0        -44.882662        0.513567  \n",
       "3    2018-06-03 05:46:42.445             0        -44.841181        0.508599  \n",
       "4    2018-06-03 06:46:45.184             0        -44.799479        0.533107  \n",
       "...                      ...           ...               ...             ...  \n",
       "2242 2018-08-31 21:56:53.499             1         44.832558        0.806386  \n",
       "2243 2018-08-31 22:56:48.582             1         44.874167        0.925052  \n",
       "2244 2018-08-31 23:57:02.095             1         44.915995        1.000000  \n",
       "2245 2018-09-01 00:56:58.165             1         44.957616        0.868973  \n",
       "2246 2018-09-01 01:57:04.246             1         44.999352        0.954744  \n",
       "\n",
       "[2247 rows x 8 columns]"
      ]
     },
     "execution_count": 23,
     "metadata": {},
     "output_type": "execute_result"
    }
   ],
   "source": [
    "df"
   ]
  },
  {
   "cell_type": "code",
   "execution_count": 25,
   "id": "7a4ad33c",
   "metadata": {},
   "outputs": [
    {
     "data": {
      "text/plain": [
       "<matplotlib.legend.Legend at 0x7f12ea1cdc40>"
      ]
     },
     "execution_count": 25,
     "metadata": {},
     "output_type": "execute_result"
    },
    {
     "data": {
      "image/png": "[encoded data removed]",
      "text/plain": [
       "<Figure size 640x480 with 1 Axes>"
      ]
     },
     "metadata": {},
     "output_type": "display_data"
    }
   ],
   "source": [
    "sub_interval_df = df[(df['days_since_tweet'] >= -7) & (df['days_since_tweet'] <= 7)]\n",
    "sub_interval_df.plot(x='days_since_tweet',y='min_max_prices',legend=False,ylabel='Min Max Coin Price',xlabel='Days Since Tweet')\n",
    "plt.axvline(0,color='green',linestyle='--')\n",
    "plt.legend(('Price','Tweet Date'))\n"
   ]
  },
  {
   "cell_type": "code",
   "execution_count": 27,
   "id": "46bd87e3",
   "metadata": {},
   "outputs": [
    {
     "data": {
      "text/plain": [
       "[Text(1, 0, 'Coin Prices After Tweet')]"
      ]
     },
     "execution_count": 27,
     "metadata": {},
     "output_type": "execute_result"
    },
    {
     "data": {
      "image/png": "[encoded data removed]",
      "text/plain": [
       "<Figure size 640x480 with 2 Axes>"
      ]
     },
     "metadata": {},
     "output_type": "display_data"
    }
   ],
   "source": [
    "axes=df.groupby(by='before_after').boxplot(column='min_max_prices',subplots=True)\n",
    "axes[0].set_title('')\n",
    "axes[1].set_title('')\n",
    "\n",
    "#I don't know how we can compare visually two things are different scales so it may not be the best idea to group them. \n",
    "#We may wanna do each seperately to be more readable. Anyway, I have chosen a scale in which none of the boxplots are cut off.\n",
    "axes[0].set_ylim(-0.03,1)\n",
    "axes[1].set_ylim(-0.03,1.04)\n",
    "\n",
    "plt.suptitle('Comparative Box Plot of Coin Prices Before and After the Tweet')\n",
    "axes[0].set_xticklabels(['Coin Prices Before Tweet'])\n",
    "axes[1].set_xticklabels(['Coin Prices After Tweet'])"
   ]
  },
  {
   "cell_type": "code",
   "execution_count": 28,
   "id": "89545897",
   "metadata": {},
   "outputs": [
    {
     "name": "stdout",
     "output_type": "stream",
     "text": [
      "0.002126913278760765 to 0.004888079629415554\n",
      "0.0 to 1.0\n"
     ]
    }
   ],
   "source": [
    "#Just to see how the interval changes\n",
    "print(min(df['prices']), \"to\", max(df['prices']))\n",
    "print(min(df['min_max_prices']), \"to\", max(df['min_max_prices']))"
   ]
  },
  {
   "cell_type": "code",
   "execution_count": 31,
   "id": "bc1b1fe9",
   "metadata": {},
   "outputs": [
    {
     "data": {
      "text/html": [
       "<div>\n",
       "<style scoped>\n",
       "    .dataframe tbody tr th:only-of-type {\n",
       "        vertical-align: middle;\n",
       "    }\n",
       "\n",
       "    .dataframe tbody tr th {\n",
       "        vertical-align: top;\n",
       "    }\n",
       "\n",
       "    .dataframe thead th {\n",
       "        text-align: right;\n",
       "    }\n",
       "</style>\n",
       "<table border=\"1\" class=\"dataframe\">\n",
       "  <thead>\n",
       "    <tr style=\"text-align: right;\">\n",
       "      <th></th>\n",
       "      <th>count</th>\n",
       "      <th>mean</th>\n",
       "      <th>std</th>\n",
       "      <th>min</th>\n",
       "      <th>25%</th>\n",
       "      <th>50%</th>\n",
       "      <th>75%</th>\n",
       "      <th>max</th>\n",
       "    </tr>\n",
       "    <tr>\n",
       "      <th>before_after</th>\n",
       "      <th></th>\n",
       "      <th></th>\n",
       "      <th></th>\n",
       "      <th></th>\n",
       "      <th></th>\n",
       "      <th></th>\n",
       "      <th></th>\n",
       "      <th></th>\n",
       "    </tr>\n",
       "  </thead>\n",
       "  <tbody>\n",
       "    <tr>\n",
       "      <th>0</th>\n",
       "      <td>1123.0</td>\n",
       "      <td>0.255862</td>\n",
       "      <td>0.159852</td>\n",
       "      <td>0.028964</td>\n",
       "      <td>0.133064</td>\n",
       "      <td>0.201600</td>\n",
       "      <td>0.326151</td>\n",
       "      <td>0.621033</td>\n",
       "    </tr>\n",
       "    <tr>\n",
       "      <th>1</th>\n",
       "      <td>1124.0</td>\n",
       "      <td>0.263844</td>\n",
       "      <td>0.181133</td>\n",
       "      <td>0.000000</td>\n",
       "      <td>0.104616</td>\n",
       "      <td>0.211124</td>\n",
       "      <td>0.443224</td>\n",
       "      <td>1.000000</td>\n",
       "    </tr>\n",
       "  </tbody>\n",
       "</table>\n",
       "</div>"
      ],
      "text/plain": [
       "               count      mean       std       min       25%       50%  \\\n",
       "before_after                                                             \n",
       "0             1123.0  0.255862  0.159852  0.028964  0.133064  0.201600   \n",
       "1             1124.0  0.263844  0.181133  0.000000  0.104616  0.211124   \n",
       "\n",
       "                   75%       max  \n",
       "before_after                      \n",
       "0             0.326151  0.621033  \n",
       "1             0.443224  1.000000  "
      ]
     },
     "execution_count": 31,
     "metadata": {},
     "output_type": "execute_result"
    }
   ],
   "source": [
    "df_comparative = df.groupby(by='before_after')['min_max_prices'].describe()\n",
    "df_comparative"
   ]
  },
  {
   "cell_type": "code",
   "execution_count": 32,
   "id": "6b3c1481",
   "metadata": {},
   "outputs": [
    {
     "name": "stdout",
     "output_type": "stream",
     "text": [
      "There is a: 3.119827879237273 % increase in the mean value of prices (min_max_prices)\n",
      "There is a: 61.02192732064918 % increase in the maximum value of prices (min_max_prices)\n"
     ]
    }
   ],
   "source": [
    "pct_mean_change= (((df_comparative['mean'].loc[1])-(df_comparative['mean'].loc[0]))/(df_comparative['mean'].loc[0]))*100\n",
    "pct_max_change= (((df_comparative['max'].loc[1])-(df_comparative['max'].loc[0]))/(df_comparative['max'].loc[0]))*100\n",
    "print(\"There is a:\", pct_mean_change, \"% increase in the mean value of prices (min_max_prices)\")\n",
    "print(\"There is a:\", pct_max_change, \"% increase in the maximum value of prices (min_max_prices)\")\n"
   ]
  },
  {
   "cell_type": "code",
   "execution_count": 33,
   "id": "c657a6e3",
   "metadata": {},
   "outputs": [
    {
     "data": {
      "text/plain": [
       "0.9946675869394264"
      ]
     },
     "execution_count": 33,
     "metadata": {},
     "output_type": "execute_result"
    }
   ],
   "source": [
    "df['min_max_prices'].autocorr(lag=1)"
   ]
  },
  {
   "cell_type": "code",
   "execution_count": 34,
   "id": "b6598ef5",
   "metadata": {},
   "outputs": [
    {
     "data": {
      "image/png": "[encoded data removed]",
      "text/plain": [
       "<Figure size 640x480 with 1 Axes>"
      ]
     },
     "execution_count": 34,
     "metadata": {},
     "output_type": "execute_result"
    },
    {
     "data": {
      "image/png": "[encoded data removed]",
      "text/plain": [
       "<Figure size 640x480 with 1 Axes>"
      ]
     },
     "metadata": {},
     "output_type": "display_data"
    }
   ],
   "source": [
    "plot_acf(df['min_max_prices'],lags=20)"
   ]
  },
  {
   "cell_type": "code",
   "execution_count": 43,
   "id": "198ec475",
   "metadata": {},
   "outputs": [
    {
     "data": {
      "text/plain": [
       "[<matplotlib.lines.Line2D at 0x7f12e8e1c400>]"
      ]
     },
     "execution_count": 43,
     "metadata": {},
     "output_type": "execute_result"
    },
    {
     "data": {
      "image/png": "[encoded data removed]",
      "text/plain": [
       "<Figure size 640x480 with 1 Axes>"
      ]
     },
     "metadata": {},
     "output_type": "display_data"
    }
   ],
   "source": [
    "#Detrending the demand shock using Hodrick-Prescott filter: y(t) = T(t) + C(t) assumption\n",
    "Price_cycle, Price_trend = hpfilter(sub_interval_df['min_max_prices'], lamb=100,)\n",
    "plt.axvline(0,color='green',linestyle='--')\n",
    "plt.plot(Price_trend)\n",
    "plt.plot(Price_cycle)"
   ]
  },
  {
   "cell_type": "code",
   "execution_count": 44,
   "id": "4cf57641",
   "metadata": {},
   "outputs": [
    {
     "name": "stdout",
     "output_type": "stream",
     "text": [
      "[]\n"
     ]
    }
   ],
   "source": [
    "#Reactivity measurement. Here I just get the time intervall between the Tweet and the peak (the min_max_prices)\n",
    "#Once we have different cases, we can update this list which we'll constitute a set we can then alayze and compare with other assets.\n",
    "reactivity_times = []\n",
    "\n",
    "for i in range(0,348):\n",
    "    if df['min_max_prices'].loc[i]==1:\n",
    "        reactivity_times.append(df['days_since_tweet'].loc[i])\n",
    "print(reactivity_times)\n"
   ]
  },
  {
   "cell_type": "code",
   "execution_count": 46,
   "id": "bf9c6b8c",
   "metadata": {},
   "outputs": [
    {
     "data": {
      "image/png": "[encoded data removed]",
      "text/plain": [
       "<Figure size 640x480 with 1 Axes>"
      ]
     },
     "metadata": {},
     "output_type": "display_data"
    }
   ],
   "source": [
    "#Plot the distribution of our cases' Prices' fluctuation\n",
    "#Let say we have a DataFrame with all of our price variations Delta expressed as the difference between the maximums (or the means) before and after the tweet.\n",
    "#\n",
    "df_before=df[df['before_after']==0] \n",
    "\n",
    "plt.hist(df['min_max_prices']) # plot a histogram of the income variable\n",
    "plt.show() # show the plot"
   ]
  },
  {
   "cell_type": "code",
   "execution_count": null,
   "id": "1e53aa1e",
   "metadata": {},
   "outputs": [],
   "source": []
  }
 ],
 "metadata": {
  "kernelspec": {
   "display_name": "Python 3 (ipykernel)",
   "language": "python",
   "name": "python3"
  },
  "language_info": {
   "codemirror_mode": {
    "name": "ipython",
    "version": 3
   },
   "file_extension": ".py",
   "mimetype": "text/x-python",
   "name": "python",
   "nbconvert_exporter": "python",
   "pygments_lexer": "ipython3",
   "version": "3.9.12"
  }
 },
 "nbformat": 4,
 "nbformat_minor": 5
}
