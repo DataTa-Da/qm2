{
 "cells": [
  {
   "cell_type": "code",
   "execution_count": 87,
   "id": "b25a0071",
   "metadata": {},
   "outputs": [
    {
     "name": "stdout",
     "output_type": "stream",
     "text": [
      "Requirement already satisfied: pandas in /home/clare/miniconda3/lib/python3.9/site-packages (1.4.2)\n",
      "Requirement already satisfied: pycoingecko in /home/clare/miniconda3/lib/python3.9/site-packages (3.1.0)\n",
      "Requirement already satisfied: matplotlib in /home/clare/miniconda3/lib/python3.9/site-packages (3.5.1)\n",
      "Requirement already satisfied: scipy in /home/clare/miniconda3/lib/python3.9/site-packages (1.9.3)\n",
      "Requirement already satisfied: seaborn in /home/clare/miniconda3/lib/python3.9/site-packages (0.12.1)\n",
      "Requirement already satisfied: python-dateutil>=2.8.1 in /home/clare/miniconda3/lib/python3.9/site-packages (from pandas) (2.8.2)\n",
      "Requirement already satisfied: pytz>=2020.1 in /home/clare/miniconda3/lib/python3.9/site-packages (from pandas) (2022.1)\n",
      "Requirement already satisfied: numpy>=1.18.5 in /home/clare/miniconda3/lib/python3.9/site-packages (from pandas) (1.23.4)\n",
      "Requirement already satisfied: requests in /home/clare/miniconda3/lib/python3.9/site-packages (from pycoingecko) (2.27.1)\n",
      "Requirement already satisfied: kiwisolver>=1.0.1 in /home/clare/miniconda3/lib/python3.9/site-packages (from matplotlib) (1.4.2)\n",
      "Requirement already satisfied: fonttools>=4.22.0 in /home/clare/miniconda3/lib/python3.9/site-packages (from matplotlib) (4.25.0)\n",
      "Requirement already satisfied: packaging>=20.0 in /home/clare/miniconda3/lib/python3.9/site-packages (from matplotlib) (21.3)\n",
      "Requirement already satisfied: pyparsing>=2.2.1 in /home/clare/miniconda3/lib/python3.9/site-packages (from matplotlib) (3.0.9)\n",
      "Requirement already satisfied: pillow>=6.2.0 in /home/clare/miniconda3/lib/python3.9/site-packages (from matplotlib) (9.0.1)\n",
      "Requirement already satisfied: cycler>=0.10 in /home/clare/miniconda3/lib/python3.9/site-packages (from matplotlib) (0.11.0)\n",
      "Requirement already satisfied: six>=1.5 in /home/clare/miniconda3/lib/python3.9/site-packages (from python-dateutil>=2.8.1->pandas) (1.16.0)\n",
      "Requirement already satisfied: idna<4,>=2.5 in /home/clare/miniconda3/lib/python3.9/site-packages (from requests->pycoingecko) (3.3)\n",
      "Requirement already satisfied: urllib3<1.27,>=1.21.1 in /home/clare/miniconda3/lib/python3.9/site-packages (from requests->pycoingecko) (1.26.8)\n",
      "Requirement already satisfied: certifi>=2017.4.17 in /home/clare/miniconda3/lib/python3.9/site-packages (from requests->pycoingecko) (2022.9.24)\n",
      "Requirement already satisfied: charset-normalizer~=2.0.0 in /home/clare/miniconda3/lib/python3.9/site-packages (from requests->pycoingecko) (2.0.4)\n"
     ]
    }
   ],
   "source": [
    "! pip3 install pandas pycoingecko matplotlib scipy seaborn\n",
    "import matplotlib.pyplot as plt\n",
    "from scipy.stats import norm\n",
    "import pandas as pd\n",
    "import datetime as dt\n",
    "import time\n",
    "import statistics as stats\n",
    "import numpy as np\n",
    "import matplotlib.pyplot as plt\n",
    "import seaborn as sns\n",
    "from pycoingecko import CoinGeckoAPI\n",
    "from statsmodels.graphics.tsaplots import plot_acf\n",
    "cg = CoinGeckoAPI()"
   ]
  },
  {
   "cell_type": "code",
   "execution_count": 88,
   "id": "8f25781a",
   "metadata": {},
   "outputs": [],
   "source": [
    "tweet_date = \"2018-07-18 01:58:00\"\n",
    "coin='dogecoin'\n",
    "date_format = \"%Y-%m-%d %H:%M:%S\"\n",
    "#1 day from current time will produce 5min interval\n",
    "#1-90 hourly interval\n",
    "#above 90 days is daily\n",
    "number_of_days = 7\n",
    "number_of_hours = 0\n",
    "tweet_datetime = pd.to_datetime(tweet_date,format=date_format)\n",
    "tweet_from_timestamp = (tweet_datetime - dt.timedelta(days=number_of_days,hours=number_of_hours)).timestamp()\n",
    "tweet_to_timestamp = (tweet_datetime + dt.timedelta(days=number_of_days,hours=number_of_hours)).timestamp()"
   ]
  },
  {
   "cell_type": "code",
   "execution_count": 89,
   "id": "6593e284",
   "metadata": {},
   "outputs": [],
   "source": [
    "coin_gecko_data = cg.get_coin_market_chart_range_by_id(id=coin,\n",
    "                                                vs_currency='usd',\n",
    "                                                from_timestamp=tweet_from_timestamp,\n",
    "                                                to_timestamp=tweet_to_timestamp)"
   ]
  },
  {
   "cell_type": "code",
   "execution_count": 90,
   "id": "9ea96fc6",
   "metadata": {},
   "outputs": [],
   "source": [
    "def get_nth_element():\n",
    "    return l[1]\n",
    "parsed_data = {}\n",
    "timestamps=list(map(lambda x:x[0],coin_gecko_data['prices']))\n",
    "for key in coin_gecko_data.keys():\n",
    "    parsed_data[key] = list(map(lambda x:x[1], coin_gecko_data[key]))\n",
    "parsed_data['timestamps']=timestamps"
   ]
  },
  {
   "cell_type": "code",
   "execution_count": 91,
   "id": "cebe667e",
   "metadata": {},
   "outputs": [],
   "source": [
    "df=pd.DataFrame(parsed_data)"
   ]
  },
  {
   "cell_type": "code",
   "execution_count": 92,
   "id": "24d67116",
   "metadata": {},
   "outputs": [
    {
     "data": {
      "text/html": [
       "<div>\n",
       "<style scoped>\n",
       "    .dataframe tbody tr th:only-of-type {\n",
       "        vertical-align: middle;\n",
       "    }\n",
       "\n",
       "    .dataframe tbody tr th {\n",
       "        vertical-align: top;\n",
       "    }\n",
       "\n",
       "    .dataframe thead th {\n",
       "        text-align: right;\n",
       "    }\n",
       "</style>\n",
       "<table border=\"1\" class=\"dataframe\">\n",
       "  <thead>\n",
       "    <tr style=\"text-align: right;\">\n",
       "      <th></th>\n",
       "      <th>prices</th>\n",
       "      <th>market_caps</th>\n",
       "      <th>total_volumes</th>\n",
       "      <th>timestamps</th>\n",
       "    </tr>\n",
       "  </thead>\n",
       "  <tbody>\n",
       "    <tr>\n",
       "      <th>0</th>\n",
       "      <td>0.002414</td>\n",
       "      <td>2.781948e+08</td>\n",
       "      <td>5.878091e+06</td>\n",
       "      <td>1531274641822</td>\n",
       "    </tr>\n",
       "    <tr>\n",
       "      <th>1</th>\n",
       "      <td>0.002390</td>\n",
       "      <td>2.754051e+08</td>\n",
       "      <td>5.814493e+06</td>\n",
       "      <td>1531278243619</td>\n",
       "    </tr>\n",
       "    <tr>\n",
       "      <th>2</th>\n",
       "      <td>0.002374</td>\n",
       "      <td>2.735420e+08</td>\n",
       "      <td>5.769283e+06</td>\n",
       "      <td>1531281843634</td>\n",
       "    </tr>\n",
       "    <tr>\n",
       "      <th>3</th>\n",
       "      <td>0.002402</td>\n",
       "      <td>2.768033e+08</td>\n",
       "      <td>5.878266e+06</td>\n",
       "      <td>1531285435984</td>\n",
       "    </tr>\n",
       "    <tr>\n",
       "      <th>4</th>\n",
       "      <td>0.002397</td>\n",
       "      <td>2.761497e+08</td>\n",
       "      <td>5.712269e+06</td>\n",
       "      <td>1531289038750</td>\n",
       "    </tr>\n",
       "    <tr>\n",
       "      <th>...</th>\n",
       "      <td>...</td>\n",
       "      <td>...</td>\n",
       "      <td>...</td>\n",
       "      <td>...</td>\n",
       "    </tr>\n",
       "    <tr>\n",
       "      <th>343</th>\n",
       "      <td>0.003564</td>\n",
       "      <td>4.113077e+08</td>\n",
       "      <td>8.979023e+06</td>\n",
       "      <td>1532467396959</td>\n",
       "    </tr>\n",
       "    <tr>\n",
       "      <th>344</th>\n",
       "      <td>0.003609</td>\n",
       "      <td>4.165872e+08</td>\n",
       "      <td>9.435907e+06</td>\n",
       "      <td>1532470997821</td>\n",
       "    </tr>\n",
       "    <tr>\n",
       "      <th>345</th>\n",
       "      <td>0.003613</td>\n",
       "      <td>4.170488e+08</td>\n",
       "      <td>9.702996e+06</td>\n",
       "      <td>1532474601026</td>\n",
       "    </tr>\n",
       "    <tr>\n",
       "      <th>346</th>\n",
       "      <td>0.003629</td>\n",
       "      <td>4.188769e+08</td>\n",
       "      <td>9.841426e+06</td>\n",
       "      <td>1532478200458</td>\n",
       "    </tr>\n",
       "    <tr>\n",
       "      <th>347</th>\n",
       "      <td>0.003619</td>\n",
       "      <td>4.176692e+08</td>\n",
       "      <td>9.873104e+06</td>\n",
       "      <td>1532481799546</td>\n",
       "    </tr>\n",
       "  </tbody>\n",
       "</table>\n",
       "<p>348 rows × 4 columns</p>\n",
       "</div>"
      ],
      "text/plain": [
       "       prices   market_caps  total_volumes     timestamps\n",
       "0    0.002414  2.781948e+08   5.878091e+06  1531274641822\n",
       "1    0.002390  2.754051e+08   5.814493e+06  1531278243619\n",
       "2    0.002374  2.735420e+08   5.769283e+06  1531281843634\n",
       "3    0.002402  2.768033e+08   5.878266e+06  1531285435984\n",
       "4    0.002397  2.761497e+08   5.712269e+06  1531289038750\n",
       "..        ...           ...            ...            ...\n",
       "343  0.003564  4.113077e+08   8.979023e+06  1532467396959\n",
       "344  0.003609  4.165872e+08   9.435907e+06  1532470997821\n",
       "345  0.003613  4.170488e+08   9.702996e+06  1532474601026\n",
       "346  0.003629  4.188769e+08   9.841426e+06  1532478200458\n",
       "347  0.003619  4.176692e+08   9.873104e+06  1532481799546\n",
       "\n",
       "[348 rows x 4 columns]"
      ]
     },
     "execution_count": 92,
     "metadata": {},
     "output_type": "execute_result"
    }
   ],
   "source": [
    "df"
   ]
  },
  {
   "cell_type": "code",
   "execution_count": 93,
   "id": "4e6564a9",
   "metadata": {},
   "outputs": [
    {
     "data": {
      "text/plain": [
       "0    1531274641822\n",
       "1    1531278243619\n",
       "2    1531281843634\n",
       "3    1531285435984\n",
       "4    1531289038750\n",
       "Name: timestamps, dtype: int64"
      ]
     },
     "execution_count": 93,
     "metadata": {},
     "output_type": "execute_result"
    }
   ],
   "source": [
    "df['timestamps'].head()"
   ]
  },
  {
   "cell_type": "code",
   "execution_count": 94,
   "id": "7a2eecf6",
   "metadata": {},
   "outputs": [],
   "source": [
    "df['date']=pd.to_datetime(df['timestamps'],origin='unix',unit='ms')"
   ]
  },
  {
   "cell_type": "code",
   "execution_count": 95,
   "id": "abf6f701",
   "metadata": {},
   "outputs": [
    {
     "data": {
      "text/html": [
       "<div>\n",
       "<style scoped>\n",
       "    .dataframe tbody tr th:only-of-type {\n",
       "        vertical-align: middle;\n",
       "    }\n",
       "\n",
       "    .dataframe tbody tr th {\n",
       "        vertical-align: top;\n",
       "    }\n",
       "\n",
       "    .dataframe thead th {\n",
       "        text-align: right;\n",
       "    }\n",
       "</style>\n",
       "<table border=\"1\" class=\"dataframe\">\n",
       "  <thead>\n",
       "    <tr style=\"text-align: right;\">\n",
       "      <th></th>\n",
       "      <th>prices</th>\n",
       "      <th>market_caps</th>\n",
       "      <th>total_volumes</th>\n",
       "      <th>timestamps</th>\n",
       "      <th>date</th>\n",
       "    </tr>\n",
       "  </thead>\n",
       "  <tbody>\n",
       "    <tr>\n",
       "      <th>0</th>\n",
       "      <td>0.002414</td>\n",
       "      <td>2.781948e+08</td>\n",
       "      <td>5.878091e+06</td>\n",
       "      <td>1531274641822</td>\n",
       "      <td>2018-07-11 02:04:01.822</td>\n",
       "    </tr>\n",
       "    <tr>\n",
       "      <th>1</th>\n",
       "      <td>0.002390</td>\n",
       "      <td>2.754051e+08</td>\n",
       "      <td>5.814493e+06</td>\n",
       "      <td>1531278243619</td>\n",
       "      <td>2018-07-11 03:04:03.619</td>\n",
       "    </tr>\n",
       "    <tr>\n",
       "      <th>2</th>\n",
       "      <td>0.002374</td>\n",
       "      <td>2.735420e+08</td>\n",
       "      <td>5.769283e+06</td>\n",
       "      <td>1531281843634</td>\n",
       "      <td>2018-07-11 04:04:03.634</td>\n",
       "    </tr>\n",
       "    <tr>\n",
       "      <th>3</th>\n",
       "      <td>0.002402</td>\n",
       "      <td>2.768033e+08</td>\n",
       "      <td>5.878266e+06</td>\n",
       "      <td>1531285435984</td>\n",
       "      <td>2018-07-11 05:03:55.984</td>\n",
       "    </tr>\n",
       "    <tr>\n",
       "      <th>4</th>\n",
       "      <td>0.002397</td>\n",
       "      <td>2.761497e+08</td>\n",
       "      <td>5.712269e+06</td>\n",
       "      <td>1531289038750</td>\n",
       "      <td>2018-07-11 06:03:58.750</td>\n",
       "    </tr>\n",
       "    <tr>\n",
       "      <th>...</th>\n",
       "      <td>...</td>\n",
       "      <td>...</td>\n",
       "      <td>...</td>\n",
       "      <td>...</td>\n",
       "      <td>...</td>\n",
       "    </tr>\n",
       "    <tr>\n",
       "      <th>343</th>\n",
       "      <td>0.003564</td>\n",
       "      <td>4.113077e+08</td>\n",
       "      <td>8.979023e+06</td>\n",
       "      <td>1532467396959</td>\n",
       "      <td>2018-07-24 21:23:16.959</td>\n",
       "    </tr>\n",
       "    <tr>\n",
       "      <th>344</th>\n",
       "      <td>0.003609</td>\n",
       "      <td>4.165872e+08</td>\n",
       "      <td>9.435907e+06</td>\n",
       "      <td>1532470997821</td>\n",
       "      <td>2018-07-24 22:23:17.821</td>\n",
       "    </tr>\n",
       "    <tr>\n",
       "      <th>345</th>\n",
       "      <td>0.003613</td>\n",
       "      <td>4.170488e+08</td>\n",
       "      <td>9.702996e+06</td>\n",
       "      <td>1532474601026</td>\n",
       "      <td>2018-07-24 23:23:21.026</td>\n",
       "    </tr>\n",
       "    <tr>\n",
       "      <th>346</th>\n",
       "      <td>0.003629</td>\n",
       "      <td>4.188769e+08</td>\n",
       "      <td>9.841426e+06</td>\n",
       "      <td>1532478200458</td>\n",
       "      <td>2018-07-25 00:23:20.458</td>\n",
       "    </tr>\n",
       "    <tr>\n",
       "      <th>347</th>\n",
       "      <td>0.003619</td>\n",
       "      <td>4.176692e+08</td>\n",
       "      <td>9.873104e+06</td>\n",
       "      <td>1532481799546</td>\n",
       "      <td>2018-07-25 01:23:19.546</td>\n",
       "    </tr>\n",
       "  </tbody>\n",
       "</table>\n",
       "<p>348 rows × 5 columns</p>\n",
       "</div>"
      ],
      "text/plain": [
       "       prices   market_caps  total_volumes     timestamps  \\\n",
       "0    0.002414  2.781948e+08   5.878091e+06  1531274641822   \n",
       "1    0.002390  2.754051e+08   5.814493e+06  1531278243619   \n",
       "2    0.002374  2.735420e+08   5.769283e+06  1531281843634   \n",
       "3    0.002402  2.768033e+08   5.878266e+06  1531285435984   \n",
       "4    0.002397  2.761497e+08   5.712269e+06  1531289038750   \n",
       "..        ...           ...            ...            ...   \n",
       "343  0.003564  4.113077e+08   8.979023e+06  1532467396959   \n",
       "344  0.003609  4.165872e+08   9.435907e+06  1532470997821   \n",
       "345  0.003613  4.170488e+08   9.702996e+06  1532474601026   \n",
       "346  0.003629  4.188769e+08   9.841426e+06  1532478200458   \n",
       "347  0.003619  4.176692e+08   9.873104e+06  1532481799546   \n",
       "\n",
       "                       date  \n",
       "0   2018-07-11 02:04:01.822  \n",
       "1   2018-07-11 03:04:03.619  \n",
       "2   2018-07-11 04:04:03.634  \n",
       "3   2018-07-11 05:03:55.984  \n",
       "4   2018-07-11 06:03:58.750  \n",
       "..                      ...  \n",
       "343 2018-07-24 21:23:16.959  \n",
       "344 2018-07-24 22:23:17.821  \n",
       "345 2018-07-24 23:23:21.026  \n",
       "346 2018-07-25 00:23:20.458  \n",
       "347 2018-07-25 01:23:19.546  \n",
       "\n",
       "[348 rows x 5 columns]"
      ]
     },
     "execution_count": 95,
     "metadata": {},
     "output_type": "execute_result"
    }
   ],
   "source": [
    "df"
   ]
  },
  {
   "cell_type": "code",
   "execution_count": 96,
   "id": "de3d10a0",
   "metadata": {},
   "outputs": [],
   "source": [
    "def is_after_tweet(date):\n",
    "    if date < tweet_datetime:\n",
    "        return 0\n",
    "    elif date > tweet_datetime:\n",
    "        return 1\n",
    "    else:\n",
    "        return -1"
   ]
  },
  {
   "cell_type": "code",
   "execution_count": 97,
   "id": "4929ddac",
   "metadata": {},
   "outputs": [],
   "source": [
    "df['before/after']=df['date'].map(is_after_tweet)"
   ]
  },
  {
   "cell_type": "code",
   "execution_count": 98,
   "id": "18632290",
   "metadata": {},
   "outputs": [],
   "source": [
    "def gen_days_since(date):\n",
    "    diff = date - tweet_datetime\n",
    "    return  diff.days + (diff.seconds / (3600 * 24))"
   ]
  },
  {
   "cell_type": "code",
   "execution_count": 99,
   "id": "361b593a",
   "metadata": {},
   "outputs": [
    {
     "data": {
      "text/plain": [
       "0.0"
      ]
     },
     "execution_count": 99,
     "metadata": {},
     "output_type": "execute_result"
    }
   ],
   "source": [
    "gen_days_since(tweet_datetime)"
   ]
  },
  {
   "cell_type": "code",
   "execution_count": 100,
   "id": "7e28c5b2",
   "metadata": {},
   "outputs": [],
   "source": [
    "df['days_since_tweet']=df['date'].map(gen_days_since)"
   ]
  },
  {
   "cell_type": "code",
   "execution_count": 101,
   "id": "5fa1d546",
   "metadata": {},
   "outputs": [
    {
     "data": {
      "text/html": [
       "<div>\n",
       "<style scoped>\n",
       "    .dataframe tbody tr th:only-of-type {\n",
       "        vertical-align: middle;\n",
       "    }\n",
       "\n",
       "    .dataframe tbody tr th {\n",
       "        vertical-align: top;\n",
       "    }\n",
       "\n",
       "    .dataframe thead th {\n",
       "        text-align: right;\n",
       "    }\n",
       "</style>\n",
       "<table border=\"1\" class=\"dataframe\">\n",
       "  <thead>\n",
       "    <tr style=\"text-align: right;\">\n",
       "      <th></th>\n",
       "      <th>prices</th>\n",
       "      <th>market_caps</th>\n",
       "      <th>total_volumes</th>\n",
       "      <th>timestamps</th>\n",
       "      <th>date</th>\n",
       "      <th>before/after</th>\n",
       "      <th>days_since_tweet</th>\n",
       "    </tr>\n",
       "  </thead>\n",
       "  <tbody>\n",
       "    <tr>\n",
       "      <th>0</th>\n",
       "      <td>0.002414</td>\n",
       "      <td>2.781948e+08</td>\n",
       "      <td>5.878091e+06</td>\n",
       "      <td>1531274641822</td>\n",
       "      <td>2018-07-11 02:04:01.822</td>\n",
       "      <td>0</td>\n",
       "      <td>-6.995822</td>\n",
       "    </tr>\n",
       "    <tr>\n",
       "      <th>1</th>\n",
       "      <td>0.002390</td>\n",
       "      <td>2.754051e+08</td>\n",
       "      <td>5.814493e+06</td>\n",
       "      <td>1531278243619</td>\n",
       "      <td>2018-07-11 03:04:03.619</td>\n",
       "      <td>0</td>\n",
       "      <td>-6.954132</td>\n",
       "    </tr>\n",
       "    <tr>\n",
       "      <th>2</th>\n",
       "      <td>0.002374</td>\n",
       "      <td>2.735420e+08</td>\n",
       "      <td>5.769283e+06</td>\n",
       "      <td>1531281843634</td>\n",
       "      <td>2018-07-11 04:04:03.634</td>\n",
       "      <td>0</td>\n",
       "      <td>-6.912465</td>\n",
       "    </tr>\n",
       "    <tr>\n",
       "      <th>3</th>\n",
       "      <td>0.002402</td>\n",
       "      <td>2.768033e+08</td>\n",
       "      <td>5.878266e+06</td>\n",
       "      <td>1531285435984</td>\n",
       "      <td>2018-07-11 05:03:55.984</td>\n",
       "      <td>0</td>\n",
       "      <td>-6.870891</td>\n",
       "    </tr>\n",
       "    <tr>\n",
       "      <th>4</th>\n",
       "      <td>0.002397</td>\n",
       "      <td>2.761497e+08</td>\n",
       "      <td>5.712269e+06</td>\n",
       "      <td>1531289038750</td>\n",
       "      <td>2018-07-11 06:03:58.750</td>\n",
       "      <td>0</td>\n",
       "      <td>-6.829190</td>\n",
       "    </tr>\n",
       "    <tr>\n",
       "      <th>...</th>\n",
       "      <td>...</td>\n",
       "      <td>...</td>\n",
       "      <td>...</td>\n",
       "      <td>...</td>\n",
       "      <td>...</td>\n",
       "      <td>...</td>\n",
       "      <td>...</td>\n",
       "    </tr>\n",
       "    <tr>\n",
       "      <th>343</th>\n",
       "      <td>0.003564</td>\n",
       "      <td>4.113077e+08</td>\n",
       "      <td>8.979023e+06</td>\n",
       "      <td>1532467396959</td>\n",
       "      <td>2018-07-24 21:23:16.959</td>\n",
       "      <td>1</td>\n",
       "      <td>6.809213</td>\n",
       "    </tr>\n",
       "    <tr>\n",
       "      <th>344</th>\n",
       "      <td>0.003609</td>\n",
       "      <td>4.165872e+08</td>\n",
       "      <td>9.435907e+06</td>\n",
       "      <td>1532470997821</td>\n",
       "      <td>2018-07-24 22:23:17.821</td>\n",
       "      <td>1</td>\n",
       "      <td>6.850891</td>\n",
       "    </tr>\n",
       "    <tr>\n",
       "      <th>345</th>\n",
       "      <td>0.003613</td>\n",
       "      <td>4.170488e+08</td>\n",
       "      <td>9.702996e+06</td>\n",
       "      <td>1532474601026</td>\n",
       "      <td>2018-07-24 23:23:21.026</td>\n",
       "      <td>1</td>\n",
       "      <td>6.892604</td>\n",
       "    </tr>\n",
       "    <tr>\n",
       "      <th>346</th>\n",
       "      <td>0.003629</td>\n",
       "      <td>4.188769e+08</td>\n",
       "      <td>9.841426e+06</td>\n",
       "      <td>1532478200458</td>\n",
       "      <td>2018-07-25 00:23:20.458</td>\n",
       "      <td>1</td>\n",
       "      <td>6.934259</td>\n",
       "    </tr>\n",
       "    <tr>\n",
       "      <th>347</th>\n",
       "      <td>0.003619</td>\n",
       "      <td>4.176692e+08</td>\n",
       "      <td>9.873104e+06</td>\n",
       "      <td>1532481799546</td>\n",
       "      <td>2018-07-25 01:23:19.546</td>\n",
       "      <td>1</td>\n",
       "      <td>6.975914</td>\n",
       "    </tr>\n",
       "  </tbody>\n",
       "</table>\n",
       "<p>348 rows × 7 columns</p>\n",
       "</div>"
      ],
      "text/plain": [
       "       prices   market_caps  total_volumes     timestamps  \\\n",
       "0    0.002414  2.781948e+08   5.878091e+06  1531274641822   \n",
       "1    0.002390  2.754051e+08   5.814493e+06  1531278243619   \n",
       "2    0.002374  2.735420e+08   5.769283e+06  1531281843634   \n",
       "3    0.002402  2.768033e+08   5.878266e+06  1531285435984   \n",
       "4    0.002397  2.761497e+08   5.712269e+06  1531289038750   \n",
       "..        ...           ...            ...            ...   \n",
       "343  0.003564  4.113077e+08   8.979023e+06  1532467396959   \n",
       "344  0.003609  4.165872e+08   9.435907e+06  1532470997821   \n",
       "345  0.003613  4.170488e+08   9.702996e+06  1532474601026   \n",
       "346  0.003629  4.188769e+08   9.841426e+06  1532478200458   \n",
       "347  0.003619  4.176692e+08   9.873104e+06  1532481799546   \n",
       "\n",
       "                       date  before/after  days_since_tweet  \n",
       "0   2018-07-11 02:04:01.822             0         -6.995822  \n",
       "1   2018-07-11 03:04:03.619             0         -6.954132  \n",
       "2   2018-07-11 04:04:03.634             0         -6.912465  \n",
       "3   2018-07-11 05:03:55.984             0         -6.870891  \n",
       "4   2018-07-11 06:03:58.750             0         -6.829190  \n",
       "..                      ...           ...               ...  \n",
       "343 2018-07-24 21:23:16.959             1          6.809213  \n",
       "344 2018-07-24 22:23:17.821             1          6.850891  \n",
       "345 2018-07-24 23:23:21.026             1          6.892604  \n",
       "346 2018-07-25 00:23:20.458             1          6.934259  \n",
       "347 2018-07-25 01:23:19.546             1          6.975914  \n",
       "\n",
       "[348 rows x 7 columns]"
      ]
     },
     "execution_count": 101,
     "metadata": {},
     "output_type": "execute_result"
    }
   ],
   "source": [
    "df"
   ]
  },
  {
   "cell_type": "code",
   "execution_count": 102,
   "id": "d4a6895a",
   "metadata": {},
   "outputs": [
    {
     "data": {
      "text/plain": [
       "<matplotlib.lines.Line2D at 0x7fcb59e27e20>"
      ]
     },
     "execution_count": 102,
     "metadata": {},
     "output_type": "execute_result"
    },
    {
     "data": {
      "image/png": "[encoded data removed]",
      "text/plain": [
       "<Figure size 640x480 with 1 Axes>"
      ]
     },
     "metadata": {},
     "output_type": "display_data"
    }
   ],
   "source": [
    "df.plot(x='days_since_tweet',y='prices',legend=False,ylabel='Coin Price in USD ($)',xlabel='Days Since Tweet')\n",
    "plt.axvline(0,color='green')"
   ]
  },
  {
   "cell_type": "code",
   "execution_count": 103,
   "id": "0b85f2c3",
   "metadata": {},
   "outputs": [],
   "source": [
    "max_price =max(df['prices'])"
   ]
  },
  {
   "cell_type": "code",
   "execution_count": 104,
   "id": "0a04fc94",
   "metadata": {},
   "outputs": [],
   "source": [
    "min_price = min(df['prices'])"
   ]
  },
  {
   "cell_type": "code",
   "execution_count": 105,
   "id": "07b3966d",
   "metadata": {},
   "outputs": [],
   "source": [
    "def min_max(price):\n",
    "    return (price - min_price)/(max_price-min_price)"
   ]
  },
  {
   "cell_type": "code",
   "execution_count": 106,
   "id": "31d79c63",
   "metadata": {},
   "outputs": [],
   "source": [
    "df['min_max_prices']=df['prices'].map(min_max)"
   ]
  },
  {
   "cell_type": "code",
   "execution_count": 107,
   "id": "60aaf71b",
   "metadata": {},
   "outputs": [
    {
     "data": {
      "text/html": [
       "<div>\n",
       "<style scoped>\n",
       "    .dataframe tbody tr th:only-of-type {\n",
       "        vertical-align: middle;\n",
       "    }\n",
       "\n",
       "    .dataframe tbody tr th {\n",
       "        vertical-align: top;\n",
       "    }\n",
       "\n",
       "    .dataframe thead th {\n",
       "        text-align: right;\n",
       "    }\n",
       "</style>\n",
       "<table border=\"1\" class=\"dataframe\">\n",
       "  <thead>\n",
       "    <tr style=\"text-align: right;\">\n",
       "      <th></th>\n",
       "      <th>prices</th>\n",
       "      <th>market_caps</th>\n",
       "      <th>total_volumes</th>\n",
       "      <th>timestamps</th>\n",
       "      <th>date</th>\n",
       "      <th>before/after</th>\n",
       "      <th>days_since_tweet</th>\n",
       "      <th>min_max_prices</th>\n",
       "    </tr>\n",
       "  </thead>\n",
       "  <tbody>\n",
       "    <tr>\n",
       "      <th>0</th>\n",
       "      <td>0.002414</td>\n",
       "      <td>2.781948e+08</td>\n",
       "      <td>5.878091e+06</td>\n",
       "      <td>1531274641822</td>\n",
       "      <td>2018-07-11 02:04:01.822</td>\n",
       "      <td>0</td>\n",
       "      <td>-6.995822</td>\n",
       "      <td>0.096332</td>\n",
       "    </tr>\n",
       "    <tr>\n",
       "      <th>1</th>\n",
       "      <td>0.002390</td>\n",
       "      <td>2.754051e+08</td>\n",
       "      <td>5.814493e+06</td>\n",
       "      <td>1531278243619</td>\n",
       "      <td>2018-07-11 03:04:03.619</td>\n",
       "      <td>0</td>\n",
       "      <td>-6.954132</td>\n",
       "      <td>0.085090</td>\n",
       "    </tr>\n",
       "    <tr>\n",
       "      <th>2</th>\n",
       "      <td>0.002374</td>\n",
       "      <td>2.735420e+08</td>\n",
       "      <td>5.769283e+06</td>\n",
       "      <td>1531281843634</td>\n",
       "      <td>2018-07-11 04:04:03.634</td>\n",
       "      <td>0</td>\n",
       "      <td>-6.912465</td>\n",
       "      <td>0.077582</td>\n",
       "    </tr>\n",
       "    <tr>\n",
       "      <th>3</th>\n",
       "      <td>0.002402</td>\n",
       "      <td>2.768033e+08</td>\n",
       "      <td>5.878266e+06</td>\n",
       "      <td>1531285435984</td>\n",
       "      <td>2018-07-11 05:03:55.984</td>\n",
       "      <td>0</td>\n",
       "      <td>-6.870891</td>\n",
       "      <td>0.090724</td>\n",
       "    </tr>\n",
       "    <tr>\n",
       "      <th>4</th>\n",
       "      <td>0.002397</td>\n",
       "      <td>2.761497e+08</td>\n",
       "      <td>5.712269e+06</td>\n",
       "      <td>1531289038750</td>\n",
       "      <td>2018-07-11 06:03:58.750</td>\n",
       "      <td>0</td>\n",
       "      <td>-6.829190</td>\n",
       "      <td>0.088090</td>\n",
       "    </tr>\n",
       "    <tr>\n",
       "      <th>...</th>\n",
       "      <td>...</td>\n",
       "      <td>...</td>\n",
       "      <td>...</td>\n",
       "      <td>...</td>\n",
       "      <td>...</td>\n",
       "      <td>...</td>\n",
       "      <td>...</td>\n",
       "      <td>...</td>\n",
       "    </tr>\n",
       "    <tr>\n",
       "      <th>343</th>\n",
       "      <td>0.003564</td>\n",
       "      <td>4.113077e+08</td>\n",
       "      <td>8.979023e+06</td>\n",
       "      <td>1532467396959</td>\n",
       "      <td>2018-07-24 21:23:16.959</td>\n",
       "      <td>1</td>\n",
       "      <td>6.809213</td>\n",
       "      <td>0.629987</td>\n",
       "    </tr>\n",
       "    <tr>\n",
       "      <th>344</th>\n",
       "      <td>0.003609</td>\n",
       "      <td>4.165872e+08</td>\n",
       "      <td>9.435907e+06</td>\n",
       "      <td>1532470997821</td>\n",
       "      <td>2018-07-24 22:23:17.821</td>\n",
       "      <td>1</td>\n",
       "      <td>6.850891</td>\n",
       "      <td>0.651228</td>\n",
       "    </tr>\n",
       "    <tr>\n",
       "      <th>345</th>\n",
       "      <td>0.003613</td>\n",
       "      <td>4.170488e+08</td>\n",
       "      <td>9.702996e+06</td>\n",
       "      <td>1532474601026</td>\n",
       "      <td>2018-07-24 23:23:21.026</td>\n",
       "      <td>1</td>\n",
       "      <td>6.892604</td>\n",
       "      <td>0.653085</td>\n",
       "    </tr>\n",
       "    <tr>\n",
       "      <th>346</th>\n",
       "      <td>0.003629</td>\n",
       "      <td>4.188769e+08</td>\n",
       "      <td>9.841426e+06</td>\n",
       "      <td>1532478200458</td>\n",
       "      <td>2018-07-25 00:23:20.458</td>\n",
       "      <td>1</td>\n",
       "      <td>6.934259</td>\n",
       "      <td>0.660439</td>\n",
       "    </tr>\n",
       "    <tr>\n",
       "      <th>347</th>\n",
       "      <td>0.003619</td>\n",
       "      <td>4.176692e+08</td>\n",
       "      <td>9.873104e+06</td>\n",
       "      <td>1532481799546</td>\n",
       "      <td>2018-07-25 01:23:19.546</td>\n",
       "      <td>1</td>\n",
       "      <td>6.975914</td>\n",
       "      <td>0.655581</td>\n",
       "    </tr>\n",
       "  </tbody>\n",
       "</table>\n",
       "<p>348 rows × 8 columns</p>\n",
       "</div>"
      ],
      "text/plain": [
       "       prices   market_caps  total_volumes     timestamps  \\\n",
       "0    0.002414  2.781948e+08   5.878091e+06  1531274641822   \n",
       "1    0.002390  2.754051e+08   5.814493e+06  1531278243619   \n",
       "2    0.002374  2.735420e+08   5.769283e+06  1531281843634   \n",
       "3    0.002402  2.768033e+08   5.878266e+06  1531285435984   \n",
       "4    0.002397  2.761497e+08   5.712269e+06  1531289038750   \n",
       "..        ...           ...            ...            ...   \n",
       "343  0.003564  4.113077e+08   8.979023e+06  1532467396959   \n",
       "344  0.003609  4.165872e+08   9.435907e+06  1532470997821   \n",
       "345  0.003613  4.170488e+08   9.702996e+06  1532474601026   \n",
       "346  0.003629  4.188769e+08   9.841426e+06  1532478200458   \n",
       "347  0.003619  4.176692e+08   9.873104e+06  1532481799546   \n",
       "\n",
       "                       date  before/after  days_since_tweet  min_max_prices  \n",
       "0   2018-07-11 02:04:01.822             0         -6.995822        0.096332  \n",
       "1   2018-07-11 03:04:03.619             0         -6.954132        0.085090  \n",
       "2   2018-07-11 04:04:03.634             0         -6.912465        0.077582  \n",
       "3   2018-07-11 05:03:55.984             0         -6.870891        0.090724  \n",
       "4   2018-07-11 06:03:58.750             0         -6.829190        0.088090  \n",
       "..                      ...           ...               ...             ...  \n",
       "343 2018-07-24 21:23:16.959             1          6.809213        0.629987  \n",
       "344 2018-07-24 22:23:17.821             1          6.850891        0.651228  \n",
       "345 2018-07-24 23:23:21.026             1          6.892604        0.653085  \n",
       "346 2018-07-25 00:23:20.458             1          6.934259        0.660439  \n",
       "347 2018-07-25 01:23:19.546             1          6.975914        0.655581  \n",
       "\n",
       "[348 rows x 8 columns]"
      ]
     },
     "execution_count": 107,
     "metadata": {},
     "output_type": "execute_result"
    }
   ],
   "source": [
    "df"
   ]
  },
  {
   "cell_type": "code",
   "execution_count": 108,
   "id": "7a4ad33c",
   "metadata": {},
   "outputs": [
    {
     "data": {
      "text/plain": [
       "<matplotlib.legend.Legend at 0x7fcb5b254910>"
      ]
     },
     "execution_count": 108,
     "metadata": {},
     "output_type": "execute_result"
    },
    {
     "data": {
      "image/png": "[encoded data removed]",
      "text/plain": [
       "<Figure size 640x480 with 1 Axes>"
      ]
     },
     "metadata": {},
     "output_type": "display_data"
    }
   ],
   "source": [
    "df.plot(x='days_since_tweet',y='min_max_prices',legend=False,ylabel='Min Max Coin Price',xlabel='Days Since Tweet')\n",
    "plt.axvline(0,color='green',linestyle='--')\n",
    "plt.legend(('Price','Tweet Date'))"
   ]
  },
  {
   "cell_type": "code",
   "execution_count": 176,
   "id": "46bd87e3",
   "metadata": {},
   "outputs": [
    {
     "data": {
      "text/plain": [
       "[Text(1, 0, 'Coin Prices After Tweet')]"
      ]
     },
     "execution_count": 176,
     "metadata": {},
     "output_type": "execute_result"
    },
    {
     "data": {
      "image/png": "[encoded data removed]",
      "text/plain": [
       "<Figure size 640x480 with 2 Axes>"
      ]
     },
     "metadata": {},
     "output_type": "display_data"
    }
   ],
   "source": [
    "axes=df.groupby(by='before/after').boxplot(column='prices',subplots=True)\n",
    "axes[0].set_title('')\n",
    "axes[1].set_title('')\n",
    "plt.suptitle('Comparative Box Plot of Coin Prices Before and After the Tweet')\n",
    "axes[0].set_xticklabels(['Coin Prices Before Tweet'])\n",
    "axes[1].set_xticklabels(['Coin Prices After Tweet'])"
   ]
  },
  {
   "cell_type": "code",
   "execution_count": 110,
   "id": "bc1b1fe9",
   "metadata": {},
   "outputs": [
    {
     "data": {
      "text/html": [
       "<div>\n",
       "<style scoped>\n",
       "    .dataframe tbody tr th:only-of-type {\n",
       "        vertical-align: middle;\n",
       "    }\n",
       "\n",
       "    .dataframe tbody tr th {\n",
       "        vertical-align: top;\n",
       "    }\n",
       "\n",
       "    .dataframe thead th {\n",
       "        text-align: right;\n",
       "    }\n",
       "</style>\n",
       "<table border=\"1\" class=\"dataframe\">\n",
       "  <thead>\n",
       "    <tr style=\"text-align: right;\">\n",
       "      <th></th>\n",
       "      <th>count</th>\n",
       "      <th>mean</th>\n",
       "      <th>std</th>\n",
       "      <th>min</th>\n",
       "      <th>25%</th>\n",
       "      <th>50%</th>\n",
       "      <th>75%</th>\n",
       "      <th>max</th>\n",
       "    </tr>\n",
       "    <tr>\n",
       "      <th>before/after</th>\n",
       "      <th></th>\n",
       "      <th></th>\n",
       "      <th></th>\n",
       "      <th></th>\n",
       "      <th></th>\n",
       "      <th></th>\n",
       "      <th></th>\n",
       "      <th></th>\n",
       "    </tr>\n",
       "  </thead>\n",
       "  <tbody>\n",
       "    <tr>\n",
       "      <th>0</th>\n",
       "      <td>174.0</td>\n",
       "      <td>0.002464</td>\n",
       "      <td>0.000250</td>\n",
       "      <td>0.002207</td>\n",
       "      <td>0.002315</td>\n",
       "      <td>0.002365</td>\n",
       "      <td>0.002414</td>\n",
       "      <td>0.003248</td>\n",
       "    </tr>\n",
       "    <tr>\n",
       "      <th>1</th>\n",
       "      <td>174.0</td>\n",
       "      <td>0.003540</td>\n",
       "      <td>0.000163</td>\n",
       "      <td>0.003209</td>\n",
       "      <td>0.003435</td>\n",
       "      <td>0.003508</td>\n",
       "      <td>0.003613</td>\n",
       "      <td>0.004360</td>\n",
       "    </tr>\n",
       "  </tbody>\n",
       "</table>\n",
       "</div>"
      ],
      "text/plain": [
       "              count      mean       std       min       25%       50%  \\\n",
       "before/after                                                            \n",
       "0             174.0  0.002464  0.000250  0.002207  0.002315  0.002365   \n",
       "1             174.0  0.003540  0.000163  0.003209  0.003435  0.003508   \n",
       "\n",
       "                   75%       max  \n",
       "before/after                      \n",
       "0             0.002414  0.003248  \n",
       "1             0.003613  0.004360  "
      ]
     },
     "execution_count": 110,
     "metadata": {},
     "output_type": "execute_result"
    }
   ],
   "source": [
    "df.groupby(by='before/after')['prices'].describe()"
   ]
  },
  {
   "cell_type": "code",
   "execution_count": 111,
   "id": "c657a6e3",
   "metadata": {},
   "outputs": [
    {
     "data": {
      "text/plain": [
       "0.990426757985195"
      ]
     },
     "execution_count": 111,
     "metadata": {},
     "output_type": "execute_result"
    }
   ],
   "source": [
    "df['prices'].autocorr(lag=1)"
   ]
  },
  {
   "cell_type": "code",
   "execution_count": 114,
   "id": "b6598ef5",
   "metadata": {},
   "outputs": [
    {
     "data": {
      "image/png": "[encoded data removed]",
      "text/plain": [
       "<Figure size 640x480 with 1 Axes>"
      ]
     },
     "execution_count": 114,
     "metadata": {},
     "output_type": "execute_result"
    },
    {
     "data": {
      "image/png": "[encoded data removed]",
      "text/plain": [
       "<Figure size 640x480 with 1 Axes>"
      ]
     },
     "metadata": {},
     "output_type": "display_data"
    }
   ],
   "source": [
    "plot_acf(df['prices'],lags=20)"
   ]
  },
  {
   "cell_type": "code",
   "execution_count": null,
   "id": "198ec475",
   "metadata": {},
   "outputs": [],
   "source": []
  }
 ],
 "metadata": {
  "kernelspec": {
   "display_name": "Python 3 (ipykernel)",
   "language": "python",
   "name": "python3"
  },
  "language_info": {
   "codemirror_mode": {
    "name": "ipython",
    "version": 3
   },
   "file_extension": ".py",
   "mimetype": "text/x-python",
   "name": "python",
   "nbconvert_exporter": "python",
   "pygments_lexer": "ipython3",
   "version": "3.9.12"
  }
 },
 "nbformat": 4,
 "nbformat_minor": 5
}
