{
 "cells": [
  {
   "cell_type": "code",
   "execution_count": 1,
   "id": "b25a0071",
   "metadata": {},
   "outputs": [
    {
     "name": "stdout",
     "output_type": "stream",
     "text": [
      "Requirement already satisfied: pandas in /home/clare/miniconda3/lib/python3.9/site-packages (1.4.2)\n",
      "Requirement already satisfied: pycoingecko in /home/clare/miniconda3/lib/python3.9/site-packages (3.1.0)\n",
      "Requirement already satisfied: python-dateutil>=2.8.1 in /home/clare/miniconda3/lib/python3.9/site-packages (from pandas) (2.8.2)\n",
      "Requirement already satisfied: pytz>=2020.1 in /home/clare/miniconda3/lib/python3.9/site-packages (from pandas) (2022.1)\n",
      "Requirement already satisfied: numpy>=1.18.5 in /home/clare/miniconda3/lib/python3.9/site-packages (from pandas) (1.23.4)\n",
      "Requirement already satisfied: requests in /home/clare/miniconda3/lib/python3.9/site-packages (from pycoingecko) (2.27.1)\n",
      "Requirement already satisfied: six>=1.5 in /home/clare/miniconda3/lib/python3.9/site-packages (from python-dateutil>=2.8.1->pandas) (1.16.0)\n",
      "Requirement already satisfied: urllib3<1.27,>=1.21.1 in /home/clare/miniconda3/lib/python3.9/site-packages (from requests->pycoingecko) (1.26.8)\n",
      "Requirement already satisfied: idna<4,>=2.5 in /home/clare/miniconda3/lib/python3.9/site-packages (from requests->pycoingecko) (3.3)\n",
      "Requirement already satisfied: charset-normalizer~=2.0.0 in /home/clare/miniconda3/lib/python3.9/site-packages (from requests->pycoingecko) (2.0.4)\n",
      "Requirement already satisfied: certifi>=2017.4.17 in /home/clare/miniconda3/lib/python3.9/site-packages (from requests->pycoingecko) (2022.9.24)\n"
     ]
    }
   ],
   "source": [
    "! pip3 install pandas pycoingecko \n",
    "import pandas as pd\n",
    "import datetime as dt\n",
    "import time\n",
    "from pycoingecko import CoinGeckoAPI\n",
    "cg = CoinGeckoAPI()"
   ]
  },
  {
   "cell_type": "code",
   "execution_count": 2,
   "id": "8f25781a",
   "metadata": {},
   "outputs": [],
   "source": [
    "tweet_date = \"2018-07-18 01:58:00\"\n",
    "coin='dogecoin'\n",
    "date_format = \"%Y-%m-%d %H:%M:%S\"\n",
    "#1 day from current time will produce 5min interval\n",
    "#1-90 hourly interval\n",
    "#above 90 days is daily\n",
    "number_of_days = 45\n",
    "number_of_hours = 0\n",
    "tweet_datetime = pd.to_datetime(tweet_date,format=date_format)\n",
    "tweet_from_timestamp = (tweet_datetime - dt.timedelta(days=number_of_days,hours=number_of_hours)).timestamp()\n",
    "tweet_to_timestamp = (tweet_datetime + dt.timedelta(days=number_of_days,hours=number_of_hours)).timestamp()"
   ]
  },
  {
   "cell_type": "code",
   "execution_count": 3,
   "id": "6593e284",
   "metadata": {},
   "outputs": [],
   "source": [
    "coin_gecko_data = cg.get_coin_market_chart_range_by_id(id=coin,\n",
    "                                                vs_currency='usd',\n",
    "                                                from_timestamp=tweet_from_timestamp,\n",
    "                                                to_timestamp=tweet_to_timestamp)"
   ]
  },
  {
   "cell_type": "code",
   "execution_count": 4,
   "id": "9ea96fc6",
   "metadata": {},
   "outputs": [],
   "source": [
    "def get_nth_element():\n",
    "    return l[1]\n",
    "parsed_data = {}\n",
    "timestamps=list(map(lambda x:x[0],coin_gecko_data['prices']))\n",
    "for key in coin_gecko_data.keys():\n",
    "    parsed_data[key] = list(map(lambda x:x[1], coin_gecko_data[key]))\n",
    "parsed_data['timestamps']=timestamps"
   ]
  },
  {
   "cell_type": "code",
   "execution_count": 5,
   "id": "cebe667e",
   "metadata": {},
   "outputs": [],
   "source": [
    "df=pd.DataFrame(parsed_data)"
   ]
  },
  {
   "cell_type": "code",
   "execution_count": 6,
   "id": "7a2eecf6",
   "metadata": {},
   "outputs": [],
   "source": [
    "df['date']=pd.to_datetime(df['timestamps'],origin='unix',unit='ms')"
   ]
  },
  {
   "cell_type": "code",
   "execution_count": 7,
   "id": "459506c4",
   "metadata": {},
   "outputs": [
    {
     "data": {
      "text/html": [
       "<div>\n",
       "<style scoped>\n",
       "    .dataframe tbody tr th:only-of-type {\n",
       "        vertical-align: middle;\n",
       "    }\n",
       "\n",
       "    .dataframe tbody tr th {\n",
       "        vertical-align: top;\n",
       "    }\n",
       "\n",
       "    .dataframe thead th {\n",
       "        text-align: right;\n",
       "    }\n",
       "</style>\n",
       "<table border=\"1\" class=\"dataframe\">\n",
       "  <thead>\n",
       "    <tr style=\"text-align: right;\">\n",
       "      <th></th>\n",
       "      <th>prices</th>\n",
       "      <th>market_caps</th>\n",
       "      <th>total_volumes</th>\n",
       "      <th>timestamps</th>\n",
       "      <th>date</th>\n",
       "    </tr>\n",
       "  </thead>\n",
       "  <tbody>\n",
       "    <tr>\n",
       "      <th>0</th>\n",
       "      <td>0.003536</td>\n",
       "      <td>4.055510e+08</td>\n",
       "      <td>4.630466e+06</td>\n",
       "      <td>1527994004375</td>\n",
       "      <td>2018-06-03 02:46:44.375</td>\n",
       "    </tr>\n",
       "    <tr>\n",
       "      <th>1</th>\n",
       "      <td>0.003537</td>\n",
       "      <td>4.056969e+08</td>\n",
       "      <td>4.647641e+06</td>\n",
       "      <td>1527997602273</td>\n",
       "      <td>2018-06-03 03:46:42.273</td>\n",
       "    </tr>\n",
       "    <tr>\n",
       "      <th>2</th>\n",
       "      <td>0.003545</td>\n",
       "      <td>4.066036e+08</td>\n",
       "      <td>3.931993e+06</td>\n",
       "      <td>1528001218261</td>\n",
       "      <td>2018-06-03 04:46:58.261</td>\n",
       "    </tr>\n",
       "    <tr>\n",
       "      <th>3</th>\n",
       "      <td>0.003531</td>\n",
       "      <td>4.050303e+08</td>\n",
       "      <td>3.953584e+06</td>\n",
       "      <td>1528004802445</td>\n",
       "      <td>2018-06-03 05:46:42.445</td>\n",
       "    </tr>\n",
       "    <tr>\n",
       "      <th>4</th>\n",
       "      <td>0.003599</td>\n",
       "      <td>4.127919e+08</td>\n",
       "      <td>4.105703e+06</td>\n",
       "      <td>1528008405184</td>\n",
       "      <td>2018-06-03 06:46:45.184</td>\n",
       "    </tr>\n",
       "    <tr>\n",
       "      <th>...</th>\n",
       "      <td>...</td>\n",
       "      <td>...</td>\n",
       "      <td>...</td>\n",
       "      <td>...</td>\n",
       "      <td>...</td>\n",
       "    </tr>\n",
       "    <tr>\n",
       "      <th>2242</th>\n",
       "      <td>0.004353</td>\n",
       "      <td>5.045204e+08</td>\n",
       "      <td>9.432780e+07</td>\n",
       "      <td>1535752613499</td>\n",
       "      <td>2018-08-31 21:56:53.499</td>\n",
       "    </tr>\n",
       "    <tr>\n",
       "      <th>2243</th>\n",
       "      <td>0.004681</td>\n",
       "      <td>5.441599e+08</td>\n",
       "      <td>1.103172e+08</td>\n",
       "      <td>1535756208582</td>\n",
       "      <td>2018-08-31 22:56:48.582</td>\n",
       "    </tr>\n",
       "    <tr>\n",
       "      <th>2244</th>\n",
       "      <td>0.004888</td>\n",
       "      <td>5.665088e+08</td>\n",
       "      <td>1.244128e+08</td>\n",
       "      <td>1535759822095</td>\n",
       "      <td>2018-08-31 23:57:02.095</td>\n",
       "    </tr>\n",
       "    <tr>\n",
       "      <th>2245</th>\n",
       "      <td>0.004526</td>\n",
       "      <td>5.248419e+08</td>\n",
       "      <td>1.259893e+08</td>\n",
       "      <td>1535763418165</td>\n",
       "      <td>2018-09-01 00:56:58.165</td>\n",
       "    </tr>\n",
       "    <tr>\n",
       "      <th>2246</th>\n",
       "      <td>0.004763</td>\n",
       "      <td>5.537377e+08</td>\n",
       "      <td>1.379959e+08</td>\n",
       "      <td>1535767024246</td>\n",
       "      <td>2018-09-01 01:57:04.246</td>\n",
       "    </tr>\n",
       "  </tbody>\n",
       "</table>\n",
       "<p>2247 rows × 5 columns</p>\n",
       "</div>"
      ],
      "text/plain": [
       "        prices   market_caps  total_volumes     timestamps  \\\n",
       "0     0.003536  4.055510e+08   4.630466e+06  1527994004375   \n",
       "1     0.003537  4.056969e+08   4.647641e+06  1527997602273   \n",
       "2     0.003545  4.066036e+08   3.931993e+06  1528001218261   \n",
       "3     0.003531  4.050303e+08   3.953584e+06  1528004802445   \n",
       "4     0.003599  4.127919e+08   4.105703e+06  1528008405184   \n",
       "...        ...           ...            ...            ...   \n",
       "2242  0.004353  5.045204e+08   9.432780e+07  1535752613499   \n",
       "2243  0.004681  5.441599e+08   1.103172e+08  1535756208582   \n",
       "2244  0.004888  5.665088e+08   1.244128e+08  1535759822095   \n",
       "2245  0.004526  5.248419e+08   1.259893e+08  1535763418165   \n",
       "2246  0.004763  5.537377e+08   1.379959e+08  1535767024246   \n",
       "\n",
       "                        date  \n",
       "0    2018-06-03 02:46:44.375  \n",
       "1    2018-06-03 03:46:42.273  \n",
       "2    2018-06-03 04:46:58.261  \n",
       "3    2018-06-03 05:46:42.445  \n",
       "4    2018-06-03 06:46:45.184  \n",
       "...                      ...  \n",
       "2242 2018-08-31 21:56:53.499  \n",
       "2243 2018-08-31 22:56:48.582  \n",
       "2244 2018-08-31 23:57:02.095  \n",
       "2245 2018-09-01 00:56:58.165  \n",
       "2246 2018-09-01 01:57:04.246  \n",
       "\n",
       "[2247 rows x 5 columns]"
      ]
     },
     "execution_count": 7,
     "metadata": {},
     "output_type": "execute_result"
    }
   ],
   "source": [
    "df"
   ]
  },
  {
   "cell_type": "code",
   "execution_count": 8,
   "id": "abf6f701",
   "metadata": {},
   "outputs": [],
   "source": [
    "df.to_csv('./dogecoin_usd_elon.csv',index=False)"
   ]
  },
  {
   "cell_type": "code",
   "execution_count": null,
   "id": "d90fa193",
   "metadata": {},
   "outputs": [],
   "source": []
  }
 ],
 "metadata": {
  "kernelspec": {
   "display_name": "Python 3 (ipykernel)",
   "language": "python",
   "name": "python3"
  },
  "language_info": {
   "codemirror_mode": {
    "name": "ipython",
    "version": 3
   },
   "file_extension": ".py",
   "mimetype": "text/x-python",
   "name": "python",
   "nbconvert_exporter": "python",
   "pygments_lexer": "ipython3",
   "version": "3.9.12"
  }
 },
 "nbformat": 4,
 "nbformat_minor": 5
}
