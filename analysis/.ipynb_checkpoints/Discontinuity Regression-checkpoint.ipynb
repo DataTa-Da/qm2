{
 "cells": [
  {
   "cell_type": "code",
   "execution_count": 1,
   "id": "c7626e16",
   "metadata": {},
   "outputs": [
    {
     "name": "stdout",
     "output_type": "stream",
     "text": [
      "Requirement already satisfied: pandas in /home/clare/miniconda3/lib/python3.9/site-packages (1.4.2)\n",
      "Requirement already satisfied: pycoingecko in /home/clare/miniconda3/lib/python3.9/site-packages (3.1.0)\n",
      "Requirement already satisfied: matplotlib in /home/clare/miniconda3/lib/python3.9/site-packages (3.5.1)\n",
      "Requirement already satisfied: scipy in /home/clare/miniconda3/lib/python3.9/site-packages (1.9.3)\n",
      "Requirement already satisfied: seaborn in /home/clare/miniconda3/lib/python3.9/site-packages (0.12.1)\n",
      "Requirement already satisfied: python-dateutil>=2.8.1 in /home/clare/miniconda3/lib/python3.9/site-packages (from pandas) (2.8.2)\n",
      "Requirement already satisfied: pytz>=2020.1 in /home/clare/miniconda3/lib/python3.9/site-packages (from pandas) (2022.1)\n",
      "Requirement already satisfied: numpy>=1.18.5 in /home/clare/miniconda3/lib/python3.9/site-packages (from pandas) (1.23.4)\n",
      "Requirement already satisfied: requests in /home/clare/miniconda3/lib/python3.9/site-packages (from pycoingecko) (2.27.1)\n",
      "Requirement already satisfied: packaging>=20.0 in /home/clare/miniconda3/lib/python3.9/site-packages (from matplotlib) (21.3)\n",
      "Requirement already satisfied: cycler>=0.10 in /home/clare/miniconda3/lib/python3.9/site-packages (from matplotlib) (0.11.0)\n",
      "Requirement already satisfied: fonttools>=4.22.0 in /home/clare/miniconda3/lib/python3.9/site-packages (from matplotlib) (4.25.0)\n",
      "Requirement already satisfied: pyparsing>=2.2.1 in /home/clare/miniconda3/lib/python3.9/site-packages (from matplotlib) (3.0.9)\n",
      "Requirement already satisfied: pillow>=6.2.0 in /home/clare/miniconda3/lib/python3.9/site-packages (from matplotlib) (9.0.1)\n",
      "Requirement already satisfied: kiwisolver>=1.0.1 in /home/clare/miniconda3/lib/python3.9/site-packages (from matplotlib) (1.4.2)\n",
      "Requirement already satisfied: six>=1.5 in /home/clare/miniconda3/lib/python3.9/site-packages (from python-dateutil>=2.8.1->pandas) (1.16.0)\n",
      "Requirement already satisfied: urllib3<1.27,>=1.21.1 in /home/clare/miniconda3/lib/python3.9/site-packages (from requests->pycoingecko) (1.26.8)\n",
      "Requirement already satisfied: charset-normalizer~=2.0.0 in /home/clare/miniconda3/lib/python3.9/site-packages (from requests->pycoingecko) (2.0.4)\n",
      "Requirement already satisfied: idna<4,>=2.5 in /home/clare/miniconda3/lib/python3.9/site-packages (from requests->pycoingecko) (3.3)\n",
      "Requirement already satisfied: certifi>=2017.4.17 in /home/clare/miniconda3/lib/python3.9/site-packages (from requests->pycoingecko) (2022.9.24)\n"
     ]
    }
   ],
   "source": [
    "! pip3 install pandas pycoingecko matplotlib scipy seaborn\n",
    "import matplotlib.pyplot as plt\n",
    "from scipy.stats import norm\n",
    "import pandas as pd\n",
    "import datetime as dt\n",
    "import time\n",
    "import statistics as stats\n",
    "import numpy as np\n",
    "import matplotlib.pyplot as plt\n",
    "import seaborn as sns\n",
    "import random as rd\n",
    "from pycoingecko import CoinGeckoAPI\n",
    "from statsmodels.graphics.tsaplots import plot_acf\n",
    "from statsmodels.tsa.ar_model import AutoReg\n",
    "from statsmodels.formula.api import ols\n",
    "from statsmodels.formula.api import wls\n",
    "from statsmodels.iolib.summary2 import summary_col\n",
    "from statsmodels.tsa.filters.hp_filter import hpfilter\n",
    "from pandas.plotting import lag_plot"
   ]
  },
  {
   "cell_type": "code",
   "execution_count": 2,
   "id": "adc213c5",
   "metadata": {},
   "outputs": [],
   "source": [
    "data_dir = '../data/crypto/'\n",
    "filename = 'dogecoin_usd_elon.csv'\n",
    "tweet_date = \"2018-07-18 01:58:00\"\n",
    "date_format = \"%Y-%m-%d %H:%M:%S\"\n",
    "tweet_datetime = pd.to_datetime(tweet_date,format=date_format)"
   ]
  },
  {
   "cell_type": "code",
   "execution_count": 3,
   "id": "24b7730e",
   "metadata": {},
   "outputs": [
    {
     "ename": "FileNotFoundError",
     "evalue": "[Errno 2] No such file or directory: '../data/crypto/dogecoin_usd_elon.csv'",
     "output_type": "error",
     "traceback": [
      "\u001b[0;31m---------------------------------------------------------------------------\u001b[0m",
      "\u001b[0;31mFileNotFoundError\u001b[0m                         Traceback (most recent call last)",
      "\u001b[0;32m/tmp/ipykernel_25648/2995785091.py\u001b[0m in \u001b[0;36m<module>\u001b[0;34m\u001b[0m\n\u001b[0;32m----> 1\u001b[0;31m \u001b[0mdf\u001b[0m \u001b[0;34m=\u001b[0m \u001b[0mpd\u001b[0m\u001b[0;34m.\u001b[0m\u001b[0mread_csv\u001b[0m\u001b[0;34m(\u001b[0m\u001b[0mdata_dir\u001b[0m\u001b[0;34m+\u001b[0m\u001b[0mfilename\u001b[0m\u001b[0;34m)\u001b[0m\u001b[0;34m\u001b[0m\u001b[0;34m\u001b[0m\u001b[0m\n\u001b[0m",
      "\u001b[0;32m~/miniconda3/lib/python3.9/site-packages/pandas/util/_decorators.py\u001b[0m in \u001b[0;36mwrapper\u001b[0;34m(*args, **kwargs)\u001b[0m\n\u001b[1;32m    309\u001b[0m                     \u001b[0mstacklevel\u001b[0m\u001b[0;34m=\u001b[0m\u001b[0mstacklevel\u001b[0m\u001b[0;34m,\u001b[0m\u001b[0;34m\u001b[0m\u001b[0;34m\u001b[0m\u001b[0m\n\u001b[1;32m    310\u001b[0m                 )\n\u001b[0;32m--> 311\u001b[0;31m             \u001b[0;32mreturn\u001b[0m \u001b[0mfunc\u001b[0m\u001b[0;34m(\u001b[0m\u001b[0;34m*\u001b[0m\u001b[0margs\u001b[0m\u001b[0;34m,\u001b[0m \u001b[0;34m**\u001b[0m\u001b[0mkwargs\u001b[0m\u001b[0;34m)\u001b[0m\u001b[0;34m\u001b[0m\u001b[0;34m\u001b[0m\u001b[0m\n\u001b[0m\u001b[1;32m    312\u001b[0m \u001b[0;34m\u001b[0m\u001b[0m\n\u001b[1;32m    313\u001b[0m         \u001b[0;32mreturn\u001b[0m \u001b[0mwrapper\u001b[0m\u001b[0;34m\u001b[0m\u001b[0;34m\u001b[0m\u001b[0m\n",
      "\u001b[0;32m~/miniconda3/lib/python3.9/site-packages/pandas/io/parsers/readers.py\u001b[0m in \u001b[0;36mread_csv\u001b[0;34m(filepath_or_buffer, sep, delimiter, header, names, index_col, usecols, squeeze, prefix, mangle_dupe_cols, dtype, engine, converters, true_values, false_values, skipinitialspace, skiprows, skipfooter, nrows, na_values, keep_default_na, na_filter, verbose, skip_blank_lines, parse_dates, infer_datetime_format, keep_date_col, date_parser, dayfirst, cache_dates, iterator, chunksize, compression, thousands, decimal, lineterminator, quotechar, quoting, doublequote, escapechar, comment, encoding, encoding_errors, dialect, error_bad_lines, warn_bad_lines, on_bad_lines, delim_whitespace, low_memory, memory_map, float_precision, storage_options)\u001b[0m\n\u001b[1;32m    678\u001b[0m     \u001b[0mkwds\u001b[0m\u001b[0;34m.\u001b[0m\u001b[0mupdate\u001b[0m\u001b[0;34m(\u001b[0m\u001b[0mkwds_defaults\u001b[0m\u001b[0;34m)\u001b[0m\u001b[0;34m\u001b[0m\u001b[0;34m\u001b[0m\u001b[0m\n\u001b[1;32m    679\u001b[0m \u001b[0;34m\u001b[0m\u001b[0m\n\u001b[0;32m--> 680\u001b[0;31m     \u001b[0;32mreturn\u001b[0m \u001b[0m_read\u001b[0m\u001b[0;34m(\u001b[0m\u001b[0mfilepath_or_buffer\u001b[0m\u001b[0;34m,\u001b[0m \u001b[0mkwds\u001b[0m\u001b[0;34m)\u001b[0m\u001b[0;34m\u001b[0m\u001b[0;34m\u001b[0m\u001b[0m\n\u001b[0m\u001b[1;32m    681\u001b[0m \u001b[0;34m\u001b[0m\u001b[0m\n\u001b[1;32m    682\u001b[0m \u001b[0;34m\u001b[0m\u001b[0m\n",
      "\u001b[0;32m~/miniconda3/lib/python3.9/site-packages/pandas/io/parsers/readers.py\u001b[0m in \u001b[0;36m_read\u001b[0;34m(filepath_or_buffer, kwds)\u001b[0m\n\u001b[1;32m    573\u001b[0m \u001b[0;34m\u001b[0m\u001b[0m\n\u001b[1;32m    574\u001b[0m     \u001b[0;31m# Create the parser.\u001b[0m\u001b[0;34m\u001b[0m\u001b[0;34m\u001b[0m\u001b[0m\n\u001b[0;32m--> 575\u001b[0;31m     \u001b[0mparser\u001b[0m \u001b[0;34m=\u001b[0m \u001b[0mTextFileReader\u001b[0m\u001b[0;34m(\u001b[0m\u001b[0mfilepath_or_buffer\u001b[0m\u001b[0;34m,\u001b[0m \u001b[0;34m**\u001b[0m\u001b[0mkwds\u001b[0m\u001b[0;34m)\u001b[0m\u001b[0;34m\u001b[0m\u001b[0;34m\u001b[0m\u001b[0m\n\u001b[0m\u001b[1;32m    576\u001b[0m \u001b[0;34m\u001b[0m\u001b[0m\n\u001b[1;32m    577\u001b[0m     \u001b[0;32mif\u001b[0m \u001b[0mchunksize\u001b[0m \u001b[0;32mor\u001b[0m \u001b[0miterator\u001b[0m\u001b[0;34m:\u001b[0m\u001b[0;34m\u001b[0m\u001b[0;34m\u001b[0m\u001b[0m\n",
      "\u001b[0;32m~/miniconda3/lib/python3.9/site-packages/pandas/io/parsers/readers.py\u001b[0m in \u001b[0;36m__init__\u001b[0;34m(self, f, engine, **kwds)\u001b[0m\n\u001b[1;32m    931\u001b[0m \u001b[0;34m\u001b[0m\u001b[0m\n\u001b[1;32m    932\u001b[0m         \u001b[0mself\u001b[0m\u001b[0;34m.\u001b[0m\u001b[0mhandles\u001b[0m\u001b[0;34m:\u001b[0m \u001b[0mIOHandles\u001b[0m \u001b[0;34m|\u001b[0m \u001b[0;32mNone\u001b[0m \u001b[0;34m=\u001b[0m \u001b[0;32mNone\u001b[0m\u001b[0;34m\u001b[0m\u001b[0;34m\u001b[0m\u001b[0m\n\u001b[0;32m--> 933\u001b[0;31m         \u001b[0mself\u001b[0m\u001b[0;34m.\u001b[0m\u001b[0m_engine\u001b[0m \u001b[0;34m=\u001b[0m \u001b[0mself\u001b[0m\u001b[0;34m.\u001b[0m\u001b[0m_make_engine\u001b[0m\u001b[0;34m(\u001b[0m\u001b[0mf\u001b[0m\u001b[0;34m,\u001b[0m \u001b[0mself\u001b[0m\u001b[0;34m.\u001b[0m\u001b[0mengine\u001b[0m\u001b[0;34m)\u001b[0m\u001b[0;34m\u001b[0m\u001b[0;34m\u001b[0m\u001b[0m\n\u001b[0m\u001b[1;32m    934\u001b[0m \u001b[0;34m\u001b[0m\u001b[0m\n\u001b[1;32m    935\u001b[0m     \u001b[0;32mdef\u001b[0m \u001b[0mclose\u001b[0m\u001b[0;34m(\u001b[0m\u001b[0mself\u001b[0m\u001b[0;34m)\u001b[0m\u001b[0;34m:\u001b[0m\u001b[0;34m\u001b[0m\u001b[0;34m\u001b[0m\u001b[0m\n",
      "\u001b[0;32m~/miniconda3/lib/python3.9/site-packages/pandas/io/parsers/readers.py\u001b[0m in \u001b[0;36m_make_engine\u001b[0;34m(self, f, engine)\u001b[0m\n\u001b[1;32m   1215\u001b[0m             \u001b[0;31m# \"Union[str, PathLike[str], ReadCsvBuffer[bytes], ReadCsvBuffer[str]]\"\u001b[0m\u001b[0;34m\u001b[0m\u001b[0;34m\u001b[0m\u001b[0m\n\u001b[1;32m   1216\u001b[0m             \u001b[0;31m# , \"str\", \"bool\", \"Any\", \"Any\", \"Any\", \"Any\", \"Any\"\u001b[0m\u001b[0;34m\u001b[0m\u001b[0;34m\u001b[0m\u001b[0m\n\u001b[0;32m-> 1217\u001b[0;31m             self.handles = get_handle(  # type: ignore[call-overload]\n\u001b[0m\u001b[1;32m   1218\u001b[0m                 \u001b[0mf\u001b[0m\u001b[0;34m,\u001b[0m\u001b[0;34m\u001b[0m\u001b[0;34m\u001b[0m\u001b[0m\n\u001b[1;32m   1219\u001b[0m                 \u001b[0mmode\u001b[0m\u001b[0;34m,\u001b[0m\u001b[0;34m\u001b[0m\u001b[0;34m\u001b[0m\u001b[0m\n",
      "\u001b[0;32m~/miniconda3/lib/python3.9/site-packages/pandas/io/common.py\u001b[0m in \u001b[0;36mget_handle\u001b[0;34m(path_or_buf, mode, encoding, compression, memory_map, is_text, errors, storage_options)\u001b[0m\n\u001b[1;32m    787\u001b[0m         \u001b[0;32mif\u001b[0m \u001b[0mioargs\u001b[0m\u001b[0;34m.\u001b[0m\u001b[0mencoding\u001b[0m \u001b[0;32mand\u001b[0m \u001b[0;34m\"b\"\u001b[0m \u001b[0;32mnot\u001b[0m \u001b[0;32min\u001b[0m \u001b[0mioargs\u001b[0m\u001b[0;34m.\u001b[0m\u001b[0mmode\u001b[0m\u001b[0;34m:\u001b[0m\u001b[0;34m\u001b[0m\u001b[0;34m\u001b[0m\u001b[0m\n\u001b[1;32m    788\u001b[0m             \u001b[0;31m# Encoding\u001b[0m\u001b[0;34m\u001b[0m\u001b[0;34m\u001b[0m\u001b[0m\n\u001b[0;32m--> 789\u001b[0;31m             handle = open(\n\u001b[0m\u001b[1;32m    790\u001b[0m                 \u001b[0mhandle\u001b[0m\u001b[0;34m,\u001b[0m\u001b[0;34m\u001b[0m\u001b[0;34m\u001b[0m\u001b[0m\n\u001b[1;32m    791\u001b[0m                 \u001b[0mioargs\u001b[0m\u001b[0;34m.\u001b[0m\u001b[0mmode\u001b[0m\u001b[0;34m,\u001b[0m\u001b[0;34m\u001b[0m\u001b[0;34m\u001b[0m\u001b[0m\n",
      "\u001b[0;31mFileNotFoundError\u001b[0m: [Errno 2] No such file or directory: '../data/crypto/dogecoin_usd_elon.csv'"
     ]
    }
   ],
   "source": [
    "df = pd.read_csv(data_dir+filename)"
   ]
  },
  {
   "cell_type": "code",
   "execution_count": null,
   "id": "e8b8c219",
   "metadata": {},
   "outputs": [],
   "source": [
    "df"
   ]
  },
  {
   "cell_type": "code",
   "execution_count": null,
   "id": "f81be72a",
   "metadata": {},
   "outputs": [],
   "source": [
    "def is_after_tweet(date,tweet_dt):\n",
    "    if date < tweet_dt:\n",
    "        return 0\n",
    "    elif date > tweet_dt: \n",
    "        return 1\n",
    "    else:\n",
    "        pass\n",
    "def days_since(date,tweet_dt):\n",
    "    diff = date - tweet_dt\n",
    "    return  diff.days + (diff.seconds / (3600 * 24))\n",
    "def min_max(price,min_price,max_price):\n",
    "    return (price - min_price)/(max_price-min_price)\n",
    "def kernel(R,c,h):\n",
    "    indicator = (np.abs(R-c) <= h).astype(float)\n",
    "    return indicator * (1 - np.abs(R-c)/h)\n"
   ]
  },
  {
   "cell_type": "code",
   "execution_count": null,
   "id": "6b0d2c60",
   "metadata": {},
   "outputs": [],
   "source": [
    "def gen_extra_cols(original_df,twt_dt,c=0,h=1):\n",
    "    expanded_df = original_df.copy()\n",
    "    expanded_df['before_after'] = expanded_df['date'].map(lambda x: is_after_tweet(x,twt_dt))\n",
    "    expanded_df['days_since_tweet'] = expanded_df['date'].map(lambda x: days_since(x,twt_dt))\n",
    "    expanded_df['min_max_prices'] = min_max(expanded_df['prices'],min(expanded_df['prices']),max(expanded_df['prices']))\n",
    "    expanded_df['kernel_weighting'] = expanded_df['days_since_tweet'].map(lambda x: kernel(x,c,h)) \n",
    "    expanded_df['hp_prices'] = hp\n",
    "    return expanded_df"
   ]
  },
  {
   "cell_type": "code",
   "execution_count": null,
   "id": "03708eb8",
   "metadata": {},
   "outputs": [],
   "source": [
    "df = df.astype({'date': 'datetime64[ns]'})"
   ]
  },
  {
   "cell_type": "code",
   "execution_count": null,
   "id": "770ee1b4",
   "metadata": {},
   "outputs": [],
   "source": [
    "df = gen_extra_cols(df,tweet_datetime)"
   ]
  },
  {
   "cell_type": "code",
   "execution_count": null,
   "id": "45850818",
   "metadata": {},
   "outputs": [],
   "source": [
    "def get_sub_df(original_df,twt_dt,window_size):\n",
    "    sub_df = original_df.copy()\n",
    "    sub_df['days_since_tweet'] = sub_df['date'].map(lambda x: days_since(x,twt_dt))\n",
    "    sub_df = sub_df[(sub_df['days_since_tweet'] >= -window_size) & (sub_df['days_since_tweet'] <= window_size)].copy().reset_index(drop=True)\n",
    "    return gen_extra_cols(sub_df,twt_dt)\n",
    "def random_tweet_dt(original_df,window_size):\n",
    "    sample_from = original_df['date'][0] + dt.timedelta(days=window_size)\n",
    "    sample_to = original_df['date'][len(original_df.index)-1] - dt.timedelta(days=window_size)\n",
    "    sampling_df = original_df[(original_df['date'] >= sample_from) & (original_df['date'] <= sample_to)]\n",
    "    random_tweet = sampling_df.sample()\n",
    "    random_tweet_date = original_df['date'][random_tweet.index.values.tolist()[0]]\n",
    "    return random_tweet_date"
   ]
  },
  {
   "cell_type": "code",
   "execution_count": null,
   "id": "a5498237",
   "metadata": {},
   "outputs": [],
   "source": [
    "sub=get_sub_df(df,random_tweet_dt(df,1),1)"
   ]
  },
  {
   "cell_type": "code",
   "execution_count": null,
   "id": "37e6ecb1",
   "metadata": {},
   "outputs": [],
   "source": [
    "def multi_window_models(original_df,twt_dt,window_sizes=range(1,8),with_kernel=False):\n",
    "    models = []\n",
    "    names = []\n",
    "    for w in window_sizes:\n",
    "        window_df = get_sub_df(original_df,twt_dt,w)\n",
    "        if with_kernel:\n",
    "            model = wls('min_max_prices ~ days_since_tweet * before_after',\n",
    "                        window_df,\n",
    "                        weights=kernel(window_df['days_since_tweet'],c=0,h=w)).fit()\n",
    "        else:\n",
    "            model = ols('min_max_prices ~ days_since_tweet * before_after',window_df).fit()\n",
    "        models.append(model)\n",
    "        names.append('± ' + str(w) + ' Days')\n",
    "    return models, names\n",
    "def multi_regression_tbl(models,names):\n",
    "    return summary_col(\n",
    "        models,\n",
    "        stars=True,\n",
    "        float_format='%0.3f',\n",
    "        model_names=names,\n",
    "        info_dict = {\"N\":lambda x: \"{0:d}\".format(int(x.nobs))})"
   ]
  },
  {
   "cell_type": "code",
   "execution_count": null,
   "id": "ef11c042",
   "metadata": {},
   "outputs": [],
   "source": [
    "models,names = multi_window_models(df,tweet_datetime)\n",
    "results_table = multi_regression_tbl(models,names)\n",
    "results_table"
   ]
  },
  {
   "cell_type": "code",
   "execution_count": null,
   "id": "70143b4a",
   "metadata": {},
   "outputs": [],
   "source": [
    "k_models,k_names = multi_window_models(df,tweet_datetime,with_kernel=True)\n",
    "k_results_table = multi_regression_tbl(k_models,k_names)\n",
    "k_results_table"
   ]
  },
  {
   "cell_type": "code",
   "execution_count": null,
   "id": "b3f1aa0e",
   "metadata": {},
   "outputs": [],
   "source": [
    "def perform_placebos(original_df,window_size,n=100,with_kernel=False):\n",
    "    models = []\n",
    "    for i in range(n):\n",
    "        rand_twt_dt = random_tweet_dt(original_df,window_size)\n",
    "        rand_window_df = get_sub_df(original_df,rand_twt_dt,window_size)\n",
    "        if with_kernel:\n",
    "            model = wls('min_max_prices ~ days_since_tweet * before_after',\n",
    "                        rand_window_df,\n",
    "                        weights=kernel(rand_window_df['days_since_tweet'],c=0,h=window_size)).fit()\n",
    "        else:\n",
    "            model = ols('min_max_prices ~ days_since_tweet * before_after',rand_window_df).fit()   \n",
    "        models.append(model)\n",
    "    return models"
   ]
  },
  {
   "cell_type": "code",
   "execution_count": null,
   "id": "e255ffed",
   "metadata": {},
   "outputs": [],
   "source": [
    "rand_twt_dt = random_tweet_dt(df,1)\n",
    "rand_window_df = get_sub_df(df,rand_twt_dt,1)\n",
    "m = ols('min_max_prices ~ days_since_tweet * before_after',rand_window_df).fit()   \n",
    "m.summary()"
   ]
  },
  {
   "cell_type": "code",
   "execution_count": null,
   "id": "01d2c95b",
   "metadata": {},
   "outputs": [],
   "source": [
    "placebos = perform_placebos(df,1,with_kernel=True,n=1000)"
   ]
  },
  {
   "cell_type": "code",
   "execution_count": null,
   "id": "22eeb795",
   "metadata": {},
   "outputs": [],
   "source": [
    "placebo_coeffs = pd.Series(placebos).map(lambda x: x.params['before_after']).to_list()"
   ]
  },
  {
   "cell_type": "code",
   "execution_count": null,
   "id": "ff72b7a6",
   "metadata": {},
   "outputs": [],
   "source": [
    "plt.hist(placebo_coeffs,bins=35,edgecolor='white',density=False)"
   ]
  },
  {
   "cell_type": "code",
   "execution_count": null,
   "id": "757b1000",
   "metadata": {},
   "outputs": [],
   "source": [
    "seven_days = get_sub_df(df,tweet_datetime,7)\n",
    "seven_day_model = ols('min_max_prices ~ days_since_tweet * before_after',seven_days).fit()\n",
    "ax = seven_days.plot(y='min_max_prices',x='days_since_tweet')\n",
    "seven_days.assign(predictions=seven_day_model.fittedvalues).plot(x='days_since_tweet',y='predictions',ax=ax,color='C1')\n",
    "plt.axvline(0,color='green',linestyle='--')"
   ]
  },
  {
   "cell_type": "code",
   "execution_count": null,
   "id": "36565806",
   "metadata": {},
   "outputs": [],
   "source": [
    "def before_after_box_plot(original_df):\n",
    "    axes=original_df.groupby(by='before_after').boxplot(column='prices',subplots=True)\n",
    "    axes[0].set_title('')\n",
    "    axes[1].set_title('')\n",
    "    plt.suptitle('Comparative Box Plot of Coin Prices Before and After the Tweet')\n",
    "    axes[0].set_xticklabels(['Coin Prices Before Tweet'])\n",
    "    axes[1].set_xticklabels(['Coin Prices After Tweet'])\n",
    "    return axes\n",
    "before_after_box_plot(seven_days)"
   ]
  },
  {
   "cell_type": "code",
   "execution_count": null,
   "id": "5ee46a31",
   "metadata": {},
   "outputs": [],
   "source": [
    "one_day = get_sub_df(df,tweet_datetime,1)\n",
    "one_day_model = ols('min_max_prices ~ days_since_tweet * before_after',one_day).fit()\n",
    "ax = one_day.plot(y='min_max_prices',x='days_since_tweet')\n",
    "one_day.assign(predictions=one_day_model.fittedvalues).plot(x='days_since_tweet',y='predictions',ax=ax,color='C1')\n",
    "plt.axvline(0,color='green',linestyle='--')"
   ]
  },
  {
   "cell_type": "code",
   "execution_count": null,
   "id": "171852b4",
   "metadata": {},
   "outputs": [],
   "source": [
    "before_after_box_plot(one_day)"
   ]
  },
  {
   "cell_type": "code",
   "execution_count": null,
   "id": "20d32c22",
   "metadata": {},
   "outputs": [],
   "source": []
  }
 ],
 "metadata": {
  "kernelspec": {
   "display_name": "Python 3 (ipykernel)",
   "language": "python",
   "name": "python3"
  },
  "language_info": {
   "codemirror_mode": {
    "name": "ipython",
    "version": 3
   },
   "file_extension": ".py",
   "mimetype": "text/x-python",
   "name": "python",
   "nbconvert_exporter": "python",
   "pygments_lexer": "ipython3",
   "version": "3.9.12"
  }
 },
 "nbformat": 4,
 "nbformat_minor": 5
}
