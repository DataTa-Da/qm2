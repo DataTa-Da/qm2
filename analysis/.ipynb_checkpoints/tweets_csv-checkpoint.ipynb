{
 "cells": [
  {
   "cell_type": "code",
   "execution_count": 1,
   "id": "ad561a8a",
   "metadata": {},
   "outputs": [],
   "source": [
    "import csv\n",
    "\n",
    "# Open a file for writing\n",
    "with open('example.csv', 'w', newline='') as csvfile:\n",
    "    # Create a CSV writer object\n",
    "    writer = csv.writer(csvfile)\n",
    "    \n",
    "    # Write the header row\n",
    "    writer.writerow(['Year', 'Month', 'Hour','Currency'])\n",
    "    \n",
    "    # Write some data rows\n",
    "    writer.writerow(['Alice', 25, 'USA'])\n",
    "    writer.writerow(['Bob', 30, 'Canada'])\n",
    "    writer.writerow(['Eve', 35, 'UK'])\n"
   ]
  },
  {
   "cell_type": "code",
   "execution_count": 5,
   "id": "21b1aa0a",
   "metadata": {},
   "outputs": [
    {
     "name": "stdout",
     "output_type": "stream",
     "text": [
      "hello\n"
     ]
    }
   ],
   "source": []
  },
  {
   "cell_type": "code",
   "execution_count": null,
   "id": "efbd8733",
   "metadata": {},
   "outputs": [],
   "source": []
  }
 ],
 "metadata": {
  "kernelspec": {
   "display_name": "Python 3 (ipykernel)",
   "language": "python",
   "name": "python3"
  },
  "language_info": {
   "codemirror_mode": {
    "name": "ipython",
    "version": 3
   },
   "file_extension": ".py",
   "mimetype": "text/x-python",
   "name": "python",
   "nbconvert_exporter": "python",
   "pygments_lexer": "ipython3",
   "version": "3.9.7"
  }
 },
 "nbformat": 4,
 "nbformat_minor": 5
}
