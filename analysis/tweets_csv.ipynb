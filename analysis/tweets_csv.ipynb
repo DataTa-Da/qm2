{
 "cells": [
  {
   "cell_type": "code",
   "execution_count": 12,
   "id": "638146cc",
   "metadata": {},
   "outputs": [],
   "source": [
    "import csv\n",
    "\n",
    "# Open a file for writing\n",
    "with open('tweets.csv', 'w', newline='') as csvfile:\n",
    "    # Create a CSV writer object\n",
    "    writer = csv.writer(csvfile)\n",
    "    \n",
    "    # Write the header row\n",
    "    writer.writerow(['Year', 'Month', 'Date','Hour','Currency'])\n",
    "    \n",
    "    # Write some data rows\n",
    "    writer.writerow([2021,12,27,'?','BlackbeardXBT'])\n",
    "    writer.writerow([2022,12,16,'?',\"FTX\"])\n",
    "    writer.writerow([2022,12,16,'?',\"Bitcoin and ETH\"])\n",
    "    writer.writerow([2022,12,15,'?',\"Bitcoin\"])\n",
    "    writer.writerow([2020,9,\"?\",'?',\"Bitcoin\"])\n",
    "    writer.writerow([2021,1,27,'?',\"Bitcoin\"])\n",
    "    writer.writerow([2021,9,2,'?',\"Bitcoin\"])\n",
    "    writer.writerow([2021,5,13,'?',\"Telsa and Bitcoin\"])\n",
    "    writer.writerow([2021,2,1,'?',\"Bitcoin\"])\n",
    "    writer.writerow([2021,11,14,'?',\"Crypto vs Dollar\"])\n",
    "    writer.writerow([2022,10,12,'?',\"Dogecoin\"])\n",
    "    writer.writerow([2021,3,25,'?',\"Defi, Shiba, Inu\"])\n",
    "    writer.writerow([2021,1,28,'?',\"Dogecoin\"])\n",
    "    writer.writerow([2022,12,20,'?',\"Bitcoin\"])\n",
    "    writer.writerow([2022,12,20,'?',\"Dogecoin\"])\n",
    "    writer.writerow([2022,5,27,'?',\"Dogecoin\"])\n",
    "    writer.writerow([2022,1,25,'?',\"Dogecoin\"])\n",
    "    \n",
    "    \n"
   ]
  },
  {
   "cell_type": "code",
   "execution_count": 13,
   "id": "96d422d9",
   "metadata": {},
   "outputs": [
    {
     "name": "stdout",
     "output_type": "stream",
     "text": [
      "['Year', 'Month', 'Date', 'Hour', 'Currency']\n",
      "['2021', '12', '27', '?', 'BlackbeardXBT']\n",
      "['2022', '12', '16', '?', 'FTX']\n",
      "['2022', '12', '16', '?', 'Bitcoin and ETH']\n",
      "['2022', '12', '15', '?', 'Bitcoin']\n",
      "['2020', '9', '?', '?', 'Bitcoin']\n",
      "['2021', '1', '27', '?', 'Bitcoin']\n",
      "['2021', '9', '2', '?', 'Bitcoin']\n",
      "['2021', '5', '13', '?', 'Telsa and Bitcoin']\n",
      "['2021', '2', '1', '?', 'Bitcoin']\n",
      "['2021', '11', '14', '?', 'Crypto vs Dollar']\n",
      "['2022', '10', '12', '?', 'Dogecoin']\n",
      "['2021', '3', '25', '?', 'Defi, Shiba, Inu']\n",
      "['2021', '1', '28', '?', 'Dogecoin']\n",
      "['2022', '12', '20', '?', 'Bitcoin']\n",
      "['2022', '12', '20', '?', 'Dogecoin']\n",
      "['2022', '5', '27', '?', 'Dogecoin']\n",
      "['2022', '1', '25', '?', 'Dogecoin']\n"
     ]
    }
   ],
   "source": [
    "with open('tweets.csv', 'r') as csvfile:\n",
    "    # Create a CSV reader object\n",
    "    reader = csv.reader(csvfile)\n",
    "    \n",
    "    # Print each row\n",
    "    for row in reader:\n",
    "        print(row)"
   ]
  },
  {
   "cell_type": "code",
   "execution_count": null,
   "id": "f1d7269e",
   "metadata": {},
   "outputs": [],
   "source": []
  }
 ],
 "metadata": {
  "kernelspec": {
   "display_name": "Python 3 (ipykernel)",
   "language": "python",
   "name": "python3"
  },
  "language_info": {
   "codemirror_mode": {
    "name": "ipython",
    "version": 3
   },
   "file_extension": ".py",
   "mimetype": "text/x-python",
   "name": "python",
   "nbconvert_exporter": "python",
   "pygments_lexer": "ipython3",
   "version": "3.9.7"
  }
 },
 "nbformat": 4,
 "nbformat_minor": 5
}
